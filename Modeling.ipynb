{
 "cells": [
  {
   "cell_type": "code",
   "execution_count": 1,
   "metadata": {},
   "outputs": [],
   "source": [
    "import pandas as pd\n",
    "import numpy as np\n",
    "from matplotlib import pyplot as plt\n",
    "from sklearn import linear_model\n",
    "from sklearn.linear_model import LinearRegression, Lasso, Ridge\n",
    "from sklearn.model_selection import train_test_split, GridSearchCV\n",
    "from sklearn import metrics\n",
    "from sklearn.preprocessing import PolynomialFeatures, StandardScaler\n",
    "import seaborn as sns\n",
    "import py_files.custom_functions as cf"
   ]
  },
  {
   "cell_type": "code",
   "execution_count": 2,
   "metadata": {},
   "outputs": [],
   "source": [
    "df = pd.read_csv('data/df_with_engineered_features.csv')"
   ]
  },
  {
   "cell_type": "code",
   "execution_count": 3,
   "metadata": {},
   "outputs": [],
   "source": [
    "df['attacker'] = df['position_agg'].map(lambda x: 1 if x =='attacker' else 0)\n",
    "df['defender'] = df['position_agg'].map(lambda x: 1 if x =='defender' else 0)\n",
    "df['midfielder'] = df['position_agg'].map(lambda x: 1 if x =='midfielder' else 0)"
   ]
  },
  {
   "cell_type": "code",
   "execution_count": 4,
   "metadata": {},
   "outputs": [],
   "source": [
    "y = df['fee_final_logged']\n",
    "#First draft model - limited to basic demographics and statistics\n",
    "#age, nationality (France reference category)\n",
    "#number of starts, position (defenders reference category)\n",
    "#Goals, assists, completed passes, blocks, clearances and interceptions (3 most important offensive and defensive stats)\n",
    "\n",
    "reduced = ['age_y', 'French','Spain', 'Italy', 'Germany', 'Brazil', 'England', 'Argentina', 'other_euro',\n",
    "             'other_SA', 'Concacaf', 'oceanian', 'CAF',\n",
    "             'games_start','attacker','midfielder',\n",
    "             'goals', 'assists','passes_completed','blocks','clearances','interceptions']\n",
    "X_reduced = df[reduced]"
   ]
  },
  {
   "cell_type": "code",
   "execution_count": 5,
   "metadata": {},
   "outputs": [],
   "source": [
    "#Train-test split \n",
    "X_red_train, X_red_test, y_train, y_test = train_test_split(X_reduced, y, random_state=9,test_size=0.2)"
   ]
  },
  {
   "cell_type": "code",
   "execution_count": 6,
   "metadata": {},
   "outputs": [],
   "source": [
    "# Using standard scaler for ridge and lasso regression\n",
    "\n",
    "ss = StandardScaler()\n",
    "X_red_train_ss = ss.fit_transform(X_red_train)\n",
    "X_red_test_ss = ss.transform(X_red_test)"
   ]
  },
  {
   "cell_type": "markdown",
   "metadata": {},
   "source": [
    "## First order polynomials:\n",
    "* Linear regression\n",
    "* GridSearch Ridge\n",
    "* GridSearch Lasso"
   ]
  },
  {
   "cell_type": "markdown",
   "metadata": {},
   "source": [
    "### OLS regression"
   ]
  },
  {
   "cell_type": "code",
   "execution_count": 7,
   "metadata": {},
   "outputs": [],
   "source": [
    "#instantiate a linear regression object\n",
    "lm = LinearRegression()\n",
    "\n",
    "#fit the linear regression to the data\n",
    "lm = lm.fit(X_red_train_ss, y_train)"
   ]
  },
  {
   "cell_type": "code",
   "execution_count": 8,
   "metadata": {},
   "outputs": [
    {
     "name": "stdout",
     "output_type": "stream",
     "text": [
      "Model eval for: LinearRegression()\n",
      "Training adj R squared: 0.31\n",
      "Training Root Mean Squared Error: 11180629.076\n",
      "Testing adj R squared: 0.127\n",
      "Testing Root Mean Squared Error: 18079019.443\n"
     ]
    }
   ],
   "source": [
    "cf.model_evaluation(lm, X_red_train_ss,X_red_test_ss, y_train, y_test)"
   ]
  },
  {
   "cell_type": "markdown",
   "metadata": {},
   "source": [
    "### Grid searching lambda for ridge"
   ]
  },
  {
   "cell_type": "code",
   "execution_count": 9,
   "metadata": {},
   "outputs": [
    {
     "data": {
      "text/plain": [
       "GridSearchCV(estimator=Ridge(),\n",
       "             param_grid={'alpha': [0.001, 0.01, 0.5, 1, 5, 10]})"
      ]
     },
     "execution_count": 9,
     "metadata": {},
     "output_type": "execute_result"
    }
   ],
   "source": [
    "ridge_params = {'alpha':[0.001,0.01,.5,1,5,10]}\n",
    "ridge = Ridge()\n",
    "grid_ridge = GridSearchCV(estimator=ridge, param_grid=ridge_params)\n",
    "grid_ridge.fit(X_red_train_ss, y_train)"
   ]
  },
  {
   "cell_type": "code",
   "execution_count": 10,
   "metadata": {},
   "outputs": [
    {
     "data": {
      "text/plain": [
       "Ridge(alpha=10)"
      ]
     },
     "execution_count": 10,
     "metadata": {},
     "output_type": "execute_result"
    }
   ],
   "source": [
    "grid_ridge.best_estimator_"
   ]
  },
  {
   "cell_type": "code",
   "execution_count": 11,
   "metadata": {},
   "outputs": [
    {
     "data": {
      "text/plain": [
       "GridSearchCV(estimator=Ridge(), param_grid={'alpha': [8, 10, 12, 16, 20, 25]})"
      ]
     },
     "execution_count": 11,
     "metadata": {},
     "output_type": "execute_result"
    }
   ],
   "source": [
    "ridge_params2 = {'alpha':[8,10,12,16,20,25]}\n",
    "ridge = Ridge()\n",
    "grid_ridge2 = GridSearchCV(estimator=ridge, param_grid=ridge_params2)\n",
    "grid_ridge2.fit(X_red_train_ss, y_train)"
   ]
  },
  {
   "cell_type": "code",
   "execution_count": 12,
   "metadata": {},
   "outputs": [
    {
     "data": {
      "text/plain": [
       "Ridge(alpha=25)"
      ]
     },
     "execution_count": 12,
     "metadata": {},
     "output_type": "execute_result"
    }
   ],
   "source": [
    "grid_ridge2.best_estimator_"
   ]
  },
  {
   "cell_type": "code",
   "execution_count": 13,
   "metadata": {},
   "outputs": [
    {
     "data": {
      "text/plain": [
       "GridSearchCV(estimator=Ridge(), param_grid={'alpha': [25, 100, 1000, 10000000]})"
      ]
     },
     "execution_count": 13,
     "metadata": {},
     "output_type": "execute_result"
    }
   ],
   "source": [
    "ridge_params3 = {'alpha':[25,100,1000,10000000]}\n",
    "ridge = Ridge()\n",
    "grid_ridge3 = GridSearchCV(estimator=ridge, param_grid=ridge_params3)\n",
    "grid_ridge3.fit(X_red_train_ss, y_train)"
   ]
  },
  {
   "cell_type": "code",
   "execution_count": 14,
   "metadata": {},
   "outputs": [
    {
     "data": {
      "text/plain": [
       "Ridge(alpha=25)"
      ]
     },
     "execution_count": 14,
     "metadata": {},
     "output_type": "execute_result"
    }
   ],
   "source": [
    "grid_ridge3.best_estimator_"
   ]
  },
  {
   "cell_type": "code",
   "execution_count": 15,
   "metadata": {},
   "outputs": [
    {
     "data": {
      "text/plain": [
       "GridSearchCV(estimator=Ridge(), param_grid={'alpha': [22, 25, 27, 30, 35]})"
      ]
     },
     "execution_count": 15,
     "metadata": {},
     "output_type": "execute_result"
    }
   ],
   "source": [
    "ridge_params4 = {'alpha':[22,25,27,30,35]}\n",
    "ridge = Ridge()\n",
    "grid_ridge4 = GridSearchCV(estimator=ridge, param_grid=ridge_params4)\n",
    "grid_ridge4.fit(X_red_train_ss, y_train)"
   ]
  },
  {
   "cell_type": "code",
   "execution_count": 16,
   "metadata": {},
   "outputs": [
    {
     "data": {
      "text/plain": [
       "Ridge(alpha=27)"
      ]
     },
     "execution_count": 16,
     "metadata": {},
     "output_type": "execute_result"
    }
   ],
   "source": [
    "grid_ridge4.best_estimator_"
   ]
  },
  {
   "cell_type": "code",
   "execution_count": 17,
   "metadata": {},
   "outputs": [
    {
     "name": "stdout",
     "output_type": "stream",
     "text": [
      "Model eval for: Ridge(alpha=27)\n",
      "Training adj R squared: 0.306\n",
      "Training Root Mean Squared Error: 11380364.041\n",
      "Testing adj R squared: 0.138\n",
      "Testing Root Mean Squared Error: 17988762.121\n"
     ]
    }
   ],
   "source": [
    "cf.model_evaluation(grid_ridge4.best_estimator_, X_red_train_ss,X_red_test_ss, y_train, y_test)"
   ]
  },
  {
   "cell_type": "markdown",
   "metadata": {},
   "source": [
    "### Grid Searching lambda for Lasso"
   ]
  },
  {
   "cell_type": "code",
   "execution_count": 18,
   "metadata": {},
   "outputs": [
    {
     "data": {
      "text/plain": [
       "GridSearchCV(estimator=Lasso(),\n",
       "             param_grid={'alpha': [0.001, 0.01, 0.5, 1, 5, 10]})"
      ]
     },
     "execution_count": 18,
     "metadata": {},
     "output_type": "execute_result"
    }
   ],
   "source": [
    "lasso_params = {'alpha':[0.001,0.01,.5,1,5,10]}\n",
    "lasso = Lasso()\n",
    "grid_lasso = GridSearchCV(estimator=lasso, param_grid=lasso_params)\n",
    "grid_lasso.fit(X_red_train_ss, y_train)"
   ]
  },
  {
   "cell_type": "code",
   "execution_count": 19,
   "metadata": {},
   "outputs": [
    {
     "data": {
      "text/plain": [
       "Lasso(alpha=0.01)"
      ]
     },
     "execution_count": 19,
     "metadata": {},
     "output_type": "execute_result"
    }
   ],
   "source": [
    "grid_lasso.best_estimator_"
   ]
  },
  {
   "cell_type": "code",
   "execution_count": 20,
   "metadata": {},
   "outputs": [
    {
     "data": {
      "text/plain": [
       "GridSearchCV(estimator=Lasso(),\n",
       "             param_grid={'alpha': [0.003, 0.007, 0.01, 0.03, 0.07]})"
      ]
     },
     "execution_count": 20,
     "metadata": {},
     "output_type": "execute_result"
    }
   ],
   "source": [
    "lasso_params2 = {'alpha':[0.003,0.007,0.01,.03,0.07]}\n",
    "lasso = Lasso()\n",
    "grid_lasso2 = GridSearchCV(estimator=lasso, param_grid=lasso_params2)\n",
    "grid_lasso2.fit(X_red_train_ss, y_train)"
   ]
  },
  {
   "cell_type": "code",
   "execution_count": 21,
   "metadata": {},
   "outputs": [
    {
     "data": {
      "text/plain": [
       "Lasso(alpha=0.007)"
      ]
     },
     "execution_count": 21,
     "metadata": {},
     "output_type": "execute_result"
    }
   ],
   "source": [
    "grid_lasso2.best_estimator_"
   ]
  },
  {
   "cell_type": "code",
   "execution_count": 22,
   "metadata": {},
   "outputs": [
    {
     "name": "stdout",
     "output_type": "stream",
     "text": [
      "Model eval for: Lasso(alpha=0.007)\n",
      "Training adj R squared: 0.308\n",
      "Training Root Mean Squared Error: 11261098.835\n",
      "Testing adj R squared: 0.144\n",
      "Testing Root Mean Squared Error: 17947248.468\n"
     ]
    }
   ],
   "source": [
    "cf.model_evaluation(grid_lasso2.best_estimator_, X_red_train_ss,X_red_test_ss, y_train, y_test)"
   ]
  },
  {
   "cell_type": "markdown",
   "metadata": {},
   "source": [
    "## Second order polynomials"
   ]
  },
  {
   "cell_type": "code",
   "execution_count": 23,
   "metadata": {},
   "outputs": [
    {
     "data": {
      "text/html": [
       "<div>\n",
       "<style scoped>\n",
       "    .dataframe tbody tr th:only-of-type {\n",
       "        vertical-align: middle;\n",
       "    }\n",
       "\n",
       "    .dataframe tbody tr th {\n",
       "        vertical-align: top;\n",
       "    }\n",
       "\n",
       "    .dataframe thead th {\n",
       "        text-align: right;\n",
       "    }\n",
       "</style>\n",
       "<table border=\"1\" class=\"dataframe\">\n",
       "  <thead>\n",
       "    <tr style=\"text-align: right;\">\n",
       "      <th></th>\n",
       "      <th>1</th>\n",
       "      <th>age_y</th>\n",
       "      <th>French</th>\n",
       "      <th>Spain</th>\n",
       "      <th>Italy</th>\n",
       "      <th>Germany</th>\n",
       "      <th>Brazil</th>\n",
       "      <th>England</th>\n",
       "      <th>Argentina</th>\n",
       "      <th>other_euro</th>\n",
       "      <th>...</th>\n",
       "      <th>passes_completed^2</th>\n",
       "      <th>passes_completed blocks</th>\n",
       "      <th>passes_completed clearances</th>\n",
       "      <th>passes_completed interceptions</th>\n",
       "      <th>blocks^2</th>\n",
       "      <th>blocks clearances</th>\n",
       "      <th>blocks interceptions</th>\n",
       "      <th>clearances^2</th>\n",
       "      <th>clearances interceptions</th>\n",
       "      <th>interceptions^2</th>\n",
       "    </tr>\n",
       "  </thead>\n",
       "  <tbody>\n",
       "    <tr>\n",
       "      <th>0</th>\n",
       "      <td>1.0</td>\n",
       "      <td>18.0</td>\n",
       "      <td>0.0</td>\n",
       "      <td>0.0</td>\n",
       "      <td>0.0</td>\n",
       "      <td>0.0</td>\n",
       "      <td>0.0</td>\n",
       "      <td>0.0</td>\n",
       "      <td>0.0</td>\n",
       "      <td>0.0</td>\n",
       "      <td>...</td>\n",
       "      <td>458329.0</td>\n",
       "      <td>19633.0</td>\n",
       "      <td>7447.0</td>\n",
       "      <td>10155.0</td>\n",
       "      <td>841.0</td>\n",
       "      <td>319.0</td>\n",
       "      <td>435.0</td>\n",
       "      <td>121.0</td>\n",
       "      <td>165.0</td>\n",
       "      <td>225.0</td>\n",
       "    </tr>\n",
       "    <tr>\n",
       "      <th>1</th>\n",
       "      <td>1.0</td>\n",
       "      <td>19.0</td>\n",
       "      <td>0.0</td>\n",
       "      <td>0.0</td>\n",
       "      <td>0.0</td>\n",
       "      <td>0.0</td>\n",
       "      <td>0.0</td>\n",
       "      <td>1.0</td>\n",
       "      <td>0.0</td>\n",
       "      <td>0.0</td>\n",
       "      <td>...</td>\n",
       "      <td>22201.0</td>\n",
       "      <td>1490.0</td>\n",
       "      <td>745.0</td>\n",
       "      <td>298.0</td>\n",
       "      <td>100.0</td>\n",
       "      <td>50.0</td>\n",
       "      <td>20.0</td>\n",
       "      <td>25.0</td>\n",
       "      <td>10.0</td>\n",
       "      <td>4.0</td>\n",
       "    </tr>\n",
       "    <tr>\n",
       "      <th>2</th>\n",
       "      <td>1.0</td>\n",
       "      <td>26.0</td>\n",
       "      <td>0.0</td>\n",
       "      <td>0.0</td>\n",
       "      <td>0.0</td>\n",
       "      <td>0.0</td>\n",
       "      <td>0.0</td>\n",
       "      <td>0.0</td>\n",
       "      <td>1.0</td>\n",
       "      <td>0.0</td>\n",
       "      <td>...</td>\n",
       "      <td>263169.0</td>\n",
       "      <td>15390.0</td>\n",
       "      <td>22059.0</td>\n",
       "      <td>8208.0</td>\n",
       "      <td>900.0</td>\n",
       "      <td>1290.0</td>\n",
       "      <td>480.0</td>\n",
       "      <td>1849.0</td>\n",
       "      <td>688.0</td>\n",
       "      <td>256.0</td>\n",
       "    </tr>\n",
       "    <tr>\n",
       "      <th>3</th>\n",
       "      <td>1.0</td>\n",
       "      <td>26.0</td>\n",
       "      <td>0.0</td>\n",
       "      <td>0.0</td>\n",
       "      <td>0.0</td>\n",
       "      <td>0.0</td>\n",
       "      <td>0.0</td>\n",
       "      <td>0.0</td>\n",
       "      <td>0.0</td>\n",
       "      <td>0.0</td>\n",
       "      <td>...</td>\n",
       "      <td>1121481.0</td>\n",
       "      <td>44478.0</td>\n",
       "      <td>5295.0</td>\n",
       "      <td>16944.0</td>\n",
       "      <td>1764.0</td>\n",
       "      <td>210.0</td>\n",
       "      <td>672.0</td>\n",
       "      <td>25.0</td>\n",
       "      <td>80.0</td>\n",
       "      <td>256.0</td>\n",
       "    </tr>\n",
       "    <tr>\n",
       "      <th>4</th>\n",
       "      <td>1.0</td>\n",
       "      <td>22.0</td>\n",
       "      <td>0.0</td>\n",
       "      <td>0.0</td>\n",
       "      <td>0.0</td>\n",
       "      <td>0.0</td>\n",
       "      <td>0.0</td>\n",
       "      <td>0.0</td>\n",
       "      <td>0.0</td>\n",
       "      <td>0.0</td>\n",
       "      <td>...</td>\n",
       "      <td>988036.0</td>\n",
       "      <td>23856.0</td>\n",
       "      <td>16898.0</td>\n",
       "      <td>21868.0</td>\n",
       "      <td>576.0</td>\n",
       "      <td>408.0</td>\n",
       "      <td>528.0</td>\n",
       "      <td>289.0</td>\n",
       "      <td>374.0</td>\n",
       "      <td>484.0</td>\n",
       "    </tr>\n",
       "  </tbody>\n",
       "</table>\n",
       "<p>5 rows × 276 columns</p>\n",
       "</div>"
      ],
      "text/plain": [
       "     1  age_y  French  Spain  Italy  Germany  Brazil  England  Argentina  \\\n",
       "0  1.0   18.0     0.0    0.0    0.0      0.0     0.0      0.0        0.0   \n",
       "1  1.0   19.0     0.0    0.0    0.0      0.0     0.0      1.0        0.0   \n",
       "2  1.0   26.0     0.0    0.0    0.0      0.0     0.0      0.0        1.0   \n",
       "3  1.0   26.0     0.0    0.0    0.0      0.0     0.0      0.0        0.0   \n",
       "4  1.0   22.0     0.0    0.0    0.0      0.0     0.0      0.0        0.0   \n",
       "\n",
       "   other_euro  ...  passes_completed^2  passes_completed blocks  \\\n",
       "0         0.0  ...            458329.0                  19633.0   \n",
       "1         0.0  ...             22201.0                   1490.0   \n",
       "2         0.0  ...            263169.0                  15390.0   \n",
       "3         0.0  ...           1121481.0                  44478.0   \n",
       "4         0.0  ...            988036.0                  23856.0   \n",
       "\n",
       "   passes_completed clearances  passes_completed interceptions  blocks^2  \\\n",
       "0                       7447.0                         10155.0     841.0   \n",
       "1                        745.0                           298.0     100.0   \n",
       "2                      22059.0                          8208.0     900.0   \n",
       "3                       5295.0                         16944.0    1764.0   \n",
       "4                      16898.0                         21868.0     576.0   \n",
       "\n",
       "   blocks clearances  blocks interceptions  clearances^2  \\\n",
       "0              319.0                 435.0         121.0   \n",
       "1               50.0                  20.0          25.0   \n",
       "2             1290.0                 480.0        1849.0   \n",
       "3              210.0                 672.0          25.0   \n",
       "4              408.0                 528.0         289.0   \n",
       "\n",
       "   clearances interceptions  interceptions^2  \n",
       "0                     165.0            225.0  \n",
       "1                      10.0              4.0  \n",
       "2                     688.0            256.0  \n",
       "3                      80.0            256.0  \n",
       "4                     374.0            484.0  \n",
       "\n",
       "[5 rows x 276 columns]"
      ]
     },
     "execution_count": 23,
     "metadata": {},
     "output_type": "execute_result"
    }
   ],
   "source": [
    "poly2 = PolynomialFeatures(degree=2)\n",
    "poly2_data = poly2.fit_transform(X_reduced)\n",
    "poly2_columns = poly2.get_feature_names(X_reduced.columns)\n",
    "X_reduced_poly = pd.DataFrame(poly2_data, columns=poly2_columns)\n",
    "X_reduced_poly.head()"
   ]
  },
  {
   "cell_type": "code",
   "execution_count": 24,
   "metadata": {},
   "outputs": [],
   "source": [
    "X_red_poly2_train, X_red_poly2_test, y_train, y_test = train_test_split(X_reduced_poly, y, random_state=9, test_size=0.2)"
   ]
  },
  {
   "cell_type": "code",
   "execution_count": 25,
   "metadata": {},
   "outputs": [],
   "source": [
    "# Using standard scaler for ridge and lasso regression\n",
    "ss_poly = StandardScaler()\n",
    "X_red_poly2_train_ss = ss_poly.fit_transform(X_red_poly2_train)\n",
    "X_red_poly2_test_ss = ss_poly.transform(X_red_poly2_test)"
   ]
  },
  {
   "cell_type": "code",
   "execution_count": 26,
   "metadata": {},
   "outputs": [],
   "source": [
    "#instantiate a linear regression object\n",
    "lm_poly = LinearRegression()\n",
    "\n",
    "#fit the linear regression to the data\n",
    "lm_poly = lm_poly.fit(X_red_poly2_train_ss, y_train)"
   ]
  },
  {
   "cell_type": "code",
   "execution_count": 27,
   "metadata": {},
   "outputs": [
    {
     "name": "stdout",
     "output_type": "stream",
     "text": [
      "Model eval for: LinearRegression()\n",
      "Training adj R squared: 0.474\n",
      "Training Root Mean Squared Error: 13543810.282\n",
      "Testing adj R squared: -3.9627525696792263e+24\n",
      "Testing Root Mean Squared Error: 616948549.737\n"
     ]
    }
   ],
   "source": [
    "cf.model_evaluation(lm_poly, X_red_poly2_train_ss, X_red_poly2_test_ss, y_train, y_test)"
   ]
  },
  {
   "cell_type": "code",
   "execution_count": 28,
   "metadata": {},
   "outputs": [
    {
     "name": "stdout",
     "output_type": "stream",
     "text": [
      "Training adj R squared: 0.474\n",
      "Training Root Mean Squared Error: 13543810.282\n",
      "Testing adj R squared: -3.9627525696792263e+24\n",
      "Testing Root Mean Squared Error: 616948549.737\n"
     ]
    }
   ],
   "source": [
    "#predict on the training and test set (modeled log of fee as outcome)\n",
    "log_y_poly2_train_pred = lm_poly.predict(X_red_poly2_train_ss)\n",
    "log_y_poly2_test_pred = lm_poly.predict(X_red_poly2_test_ss)\n",
    "\n",
    "#exponentiate the predicted values\n",
    "y_poly2_train_pred = np.exp(log_y_poly2_train_pred)\n",
    "y_poly2_test_pred = np.exp(log_y_poly2_test_pred)\n",
    "\n",
    "#calculate RMSE on exponentiated predicted and exponentiated y values to get RMSE in pounds\n",
    "train_rmse = np.sqrt(metrics.mean_squared_error(np.exp(y_train), y_poly2_train_pred))\n",
    "test_rmse = np.sqrt(metrics.mean_squared_error(np.exp(y_test), y_poly2_test_pred))\n",
    "\n",
    "print('Training adj R squared:', round(lm_poly.score(X_red_poly2_train_ss, y_train),3))\n",
    "print('Training Root Mean Squared Error:' , round(train_rmse,3))\n",
    "print('Testing adj R squared:', round(lm_poly.score(X_red_poly2_test_ss, y_test),3))\n",
    "print('Testing Root Mean Squared Error:' , round(test_rmse,3))"
   ]
  },
  {
   "cell_type": "code",
   "execution_count": 29,
   "metadata": {},
   "outputs": [
    {
     "data": {
      "text/plain": [
       "GridSearchCV(estimator=Ridge(),\n",
       "             param_grid={'alpha': [0.001, 0.01, 0.5, 1, 5, 10]})"
      ]
     },
     "execution_count": 29,
     "metadata": {},
     "output_type": "execute_result"
    }
   ],
   "source": [
    "ridge_poly2_params = {'alpha':[0.001,0.01,.5,1,5,10]}\n",
    "ridge_poly2 = Ridge()\n",
    "grid_poly2_ridge = GridSearchCV(estimator=ridge_poly2, param_grid=ridge_poly2_params)\n",
    "grid_poly2_ridge.fit(X_red_poly2_train_ss, y_train)"
   ]
  },
  {
   "cell_type": "code",
   "execution_count": 30,
   "metadata": {},
   "outputs": [
    {
     "data": {
      "text/plain": [
       "Ridge(alpha=10)"
      ]
     },
     "execution_count": 30,
     "metadata": {},
     "output_type": "execute_result"
    }
   ],
   "source": [
    "grid_poly2_ridge.best_estimator_"
   ]
  },
  {
   "cell_type": "code",
   "execution_count": 31,
   "metadata": {},
   "outputs": [
    {
     "data": {
      "text/plain": [
       "GridSearchCV(estimator=Ridge(),\n",
       "             param_grid={'alpha': [10, 15, 20, 25, 30, 35, 40]})"
      ]
     },
     "execution_count": 31,
     "metadata": {},
     "output_type": "execute_result"
    }
   ],
   "source": [
    "ridge_poly2_params2 = {'alpha':[10,15,20,25,30,35,40]}\n",
    "ridge_poly2 = Ridge()\n",
    "grid_poly2_ridge2 = GridSearchCV(estimator=ridge_poly2, param_grid=ridge_poly2_params2)\n",
    "grid_poly2_ridge2.fit(X_red_poly2_train_ss, y_train)"
   ]
  },
  {
   "cell_type": "code",
   "execution_count": 32,
   "metadata": {},
   "outputs": [
    {
     "data": {
      "text/plain": [
       "Ridge(alpha=40)"
      ]
     },
     "execution_count": 32,
     "metadata": {},
     "output_type": "execute_result"
    }
   ],
   "source": [
    "grid_poly2_ridge2.best_estimator_"
   ]
  },
  {
   "cell_type": "code",
   "execution_count": 33,
   "metadata": {},
   "outputs": [
    {
     "data": {
      "text/plain": [
       "GridSearchCV(estimator=Ridge(),\n",
       "             param_grid={'alpha': [40, 50, 60, 70, 80, 90, 100]})"
      ]
     },
     "execution_count": 33,
     "metadata": {},
     "output_type": "execute_result"
    }
   ],
   "source": [
    "ridge_poly2_params3 = {'alpha':[40,50,60,70,80,90,100]}\n",
    "ridge_poly2 = Ridge()\n",
    "grid_poly2_ridge3 = GridSearchCV(estimator=ridge_poly2, param_grid=ridge_poly2_params3)\n",
    "grid_poly2_ridge3.fit(X_red_poly2_train_ss, y_train)"
   ]
  },
  {
   "cell_type": "code",
   "execution_count": 34,
   "metadata": {},
   "outputs": [
    {
     "data": {
      "text/plain": [
       "Ridge(alpha=100)"
      ]
     },
     "execution_count": 34,
     "metadata": {},
     "output_type": "execute_result"
    }
   ],
   "source": [
    "grid_poly2_ridge3.best_estimator_"
   ]
  },
  {
   "cell_type": "code",
   "execution_count": 35,
   "metadata": {},
   "outputs": [
    {
     "data": {
      "text/plain": [
       "GridSearchCV(estimator=Ridge(), param_grid={'alpha': [100, 150, 200, 250, 300]})"
      ]
     },
     "execution_count": 35,
     "metadata": {},
     "output_type": "execute_result"
    }
   ],
   "source": [
    "ridge_poly2_params4 = {'alpha':[100,150,200,250,300]}\n",
    "ridge_poly2 = Ridge()\n",
    "grid_poly2_ridge4 = GridSearchCV(estimator=ridge_poly2, param_grid=ridge_poly2_params4)\n",
    "grid_poly2_ridge4.fit(X_red_poly2_train_ss, y_train)"
   ]
  },
  {
   "cell_type": "code",
   "execution_count": 36,
   "metadata": {},
   "outputs": [
    {
     "data": {
      "text/plain": [
       "Ridge(alpha=300)"
      ]
     },
     "execution_count": 36,
     "metadata": {},
     "output_type": "execute_result"
    }
   ],
   "source": [
    "grid_poly2_ridge4.best_estimator_"
   ]
  },
  {
   "cell_type": "code",
   "execution_count": 43,
   "metadata": {},
   "outputs": [
    {
     "data": {
      "text/plain": [
       "GridSearchCV(estimator=Ridge(),\n",
       "             param_grid={'alpha': [270, 290, 300, 310, 330, 340, 350]})"
      ]
     },
     "execution_count": 43,
     "metadata": {},
     "output_type": "execute_result"
    }
   ],
   "source": [
    "ridge_poly2_params5 = {'alpha':[270,290,300,310,330,340,350]}\n",
    "ridge_poly2 = Ridge()\n",
    "grid_poly2_ridge5 = GridSearchCV(estimator=ridge_poly2, param_grid=ridge_poly2_params5)\n",
    "grid_poly2_ridge5.fit(X_red_poly2_train_ss, y_train)"
   ]
  },
  {
   "cell_type": "code",
   "execution_count": 44,
   "metadata": {},
   "outputs": [
    {
     "data": {
      "text/plain": [
       "Ridge(alpha=330)"
      ]
     },
     "execution_count": 44,
     "metadata": {},
     "output_type": "execute_result"
    }
   ],
   "source": [
    "grid_poly2_ridge5.best_estimator_"
   ]
  },
  {
   "cell_type": "code",
   "execution_count": 45,
   "metadata": {},
   "outputs": [
    {
     "name": "stdout",
     "output_type": "stream",
     "text": [
      "Model eval for: Ridge(alpha=330)\n",
      "Training adj R squared: 0.365\n",
      "Training Root Mean Squared Error: 10808971.514\n",
      "Testing adj R squared: 0.14\n",
      "Testing Root Mean Squared Error: 18016336.391\n"
     ]
    }
   ],
   "source": [
    "cf.model_evaluation(grid_poly2_ridge5.best_estimator_, X_red_poly2_train_ss, X_red_poly2_test_ss, y_train,y_test)"
   ]
  },
  {
   "cell_type": "markdown",
   "metadata": {},
   "source": [
    "## Grid search for lasso lambda"
   ]
  },
  {
   "cell_type": "code",
   "execution_count": 51,
   "metadata": {},
   "outputs": [
    {
     "data": {
      "text/plain": [
       "GridSearchCV(estimator=Lasso(max_iter=7000),\n",
       "             param_grid={'alpha': [0.001, 0.01, 0.5, 1, 5, 10]})"
      ]
     },
     "execution_count": 51,
     "metadata": {},
     "output_type": "execute_result"
    }
   ],
   "source": [
    "lasso_poly2_params = {'alpha':[0.001,0.01,.5,1,5,10]}\n",
    "lasso_poly2 = Lasso(max_iter=7000)\n",
    "grid_poly2_lasso = GridSearchCV(estimator=lasso_poly2, param_grid=lasso_poly2_params)\n",
    "grid_poly2_lasso.fit(X_red_poly2_train_ss, y_train)"
   ]
  },
  {
   "cell_type": "code",
   "execution_count": 52,
   "metadata": {},
   "outputs": [
    {
     "data": {
      "text/plain": [
       "Lasso(alpha=0.01, max_iter=7000)"
      ]
     },
     "execution_count": 52,
     "metadata": {},
     "output_type": "execute_result"
    }
   ],
   "source": [
    "grid_poly2_lasso.best_estimator_"
   ]
  },
  {
   "cell_type": "code",
   "execution_count": 53,
   "metadata": {},
   "outputs": [
    {
     "data": {
      "text/plain": [
       "GridSearchCV(estimator=Lasso(max_iter=7000),\n",
       "             param_grid={'alpha': [0.003, 0.007, 0.01, 0.03, 0.07]})"
      ]
     },
     "execution_count": 53,
     "metadata": {},
     "output_type": "execute_result"
    }
   ],
   "source": [
    "lasso_poly2_params2 = {'alpha':[0.003,0.007,0.01,.03,0.07]}\n",
    "lasso_poly2 = Lasso(max_iter=7000)\n",
    "grid_poly2_lasso2 = GridSearchCV(estimator=lasso_poly2, param_grid=lasso_poly2_params2)\n",
    "grid_poly2_lasso2.fit(X_red_poly2_train_ss, y_train)"
   ]
  },
  {
   "cell_type": "code",
   "execution_count": 54,
   "metadata": {},
   "outputs": [
    {
     "data": {
      "text/plain": [
       "Lasso(alpha=0.07, max_iter=7000)"
      ]
     },
     "execution_count": 54,
     "metadata": {},
     "output_type": "execute_result"
    }
   ],
   "source": [
    "grid_poly2_lasso2.best_estimator_"
   ]
  },
  {
   "cell_type": "code",
   "execution_count": 55,
   "metadata": {},
   "outputs": [
    {
     "data": {
      "text/plain": [
       "GridSearchCV(estimator=Lasso(max_iter=7000),\n",
       "             param_grid={'alpha': [0.05, 0.07, 0.09, 0.11, 0.15, 0.2, 0.3,\n",
       "                                   0.4]})"
      ]
     },
     "execution_count": 55,
     "metadata": {},
     "output_type": "execute_result"
    }
   ],
   "source": [
    "lasso_poly2_params3 = {'alpha':[0.05,0.07,0.09,0.11,0.15,0.2,0.3,0.4]}\n",
    "lasso_poly2 = Lasso(max_iter=7000)\n",
    "grid_poly2_lasso3 = GridSearchCV(estimator=lasso_poly2, param_grid=lasso_poly2_params3)\n",
    "grid_poly2_lasso3.fit(X_red_poly2_train_ss, y_train)"
   ]
  },
  {
   "cell_type": "code",
   "execution_count": 56,
   "metadata": {},
   "outputs": [
    {
     "data": {
      "text/plain": [
       "Lasso(alpha=0.05, max_iter=7000)"
      ]
     },
     "execution_count": 56,
     "metadata": {},
     "output_type": "execute_result"
    }
   ],
   "source": [
    "grid_poly2_lasso3.best_estimator_"
   ]
  },
  {
   "cell_type": "code",
   "execution_count": 57,
   "metadata": {},
   "outputs": [
    {
     "name": "stdout",
     "output_type": "stream",
     "text": [
      "Model eval for: Lasso(alpha=0.05, max_iter=7000)\n",
      "Training adj R squared: 0.307\n",
      "Training Root Mean Squared Error: 11727801.247\n",
      "Testing adj R squared: 0.167\n",
      "Testing Root Mean Squared Error: 18144495.021\n"
     ]
    }
   ],
   "source": [
    "cf.model_evaluation(grid_poly2_lasso3.best_estimator_,X_red_poly2_train_ss, X_red_poly2_test_ss, y_train,y_test)"
   ]
  },
  {
   "cell_type": "markdown",
   "metadata": {},
   "source": [
    "# PCA "
   ]
  },
  {
   "cell_type": "code",
   "execution_count": 83,
   "metadata": {},
   "outputs": [],
   "source": [
    "from sklearn.decomposition import PCA"
   ]
  },
  {
   "cell_type": "code",
   "execution_count": 71,
   "metadata": {},
   "outputs": [],
   "source": [
    "features = ['age_y', 'games', 'games_start', 'goals', 'assists','pens_successful',\n",
    "          'pens_attempts', 'yellow_cards', 'red_cards', 'xg', 'npxp', 'xa', 'full_90s_played',\n",
    "          'shots_total', 'shots_on_target', 'npxg','passes_completed','passes_attempted',\n",
    "          'passes_total_dist','passes_prog_dist','passes_completed_short', 'passes_attempted_short',\n",
    "          'passes_completed_medium','passes_attempted_medium','passes_completed_long', 'passes_attempted_long', \n",
    "          'xa_net', 'assisted_shots', 'passes_into_final_third', 'passes_into_penalty_area', 'crosses_into_penalty_area',\n",
    "          'progressive_passes','sca','sca_passes_live','sca_passes_dead','sca_dribbles','sca_shots','sca_fouled',\n",
    " 'sca_defense', 'gca', 'gca_passes_live', 'gca_passes_dead', 'gca_dribbles', 'gca_shots', 'gca_fouled',\n",
    " 'gca_defense', 'gca_og_for', 'tackles', 'tackles_won', 'tackles_def_3rd', 'tackles_mid_3rd', 'tackles_att_3rd',\n",
    " 'dribble_tackles', 'dribble_vs', 'dribbled_past', 'pressures', 'pressure_regains', 'pressures_def_3rd',\n",
    " 'pressures_mid_3rd', 'pressures_att_3rd', 'blocks', 'blocked_shots', 'blocked_shots_saves',\n",
    " 'blocked_passes', 'interceptions', 'tackles_interceptions', 'clearances', 'errors', 'touches',\n",
    " 'touches_def_pen_area', 'touches_def_3rd', 'touches_mid_3rd', 'touches_att_3rd', 'touches_att_pen_area',\n",
    " 'touches_live_ball', 'dribbles_completed', 'dribbles', 'players_dribbled_past', 'nutmegs',\n",
    " 'carries', 'carry_distance','carry_progressive_distance', 'pass_targets', 'passes_received', 'miscontrols',\n",
    " 'dispossessed', 'passes_left_foot', 'passes_right_foot', 'aerials_won', 'aerials_lost', 'mins_num',\n",
    "  'attacker','defender','midfielder',\n",
    " 'French', 'Spain', 'Italy', 'Germany', 'Brazil', 'England', 'Argentina', 'other_euro', 'other_SA', 'Concacaf',\n",
    " 'oceanian', 'CAF',\n",
    "  'selling_club_mega', 'buying_club_mega',\n",
    " ]"
   ]
  },
  {
   "cell_type": "code",
   "execution_count": 75,
   "metadata": {},
   "outputs": [],
   "source": [
    "y_pca = df['fee_final_logged']\n",
    "x_pca = df[features]"
   ]
  },
  {
   "cell_type": "code",
   "execution_count": 76,
   "metadata": {},
   "outputs": [],
   "source": [
    "X_pca_train, X_pca_test, y_pca_train, y_pca_test = train_test_split(x_pca, y_pca, random_state=9,test_size=0.2)"
   ]
  },
  {
   "cell_type": "code",
   "execution_count": 85,
   "metadata": {},
   "outputs": [],
   "source": [
    "ss_pca = StandardScaler()\n",
    "X_pca_train_ss = ss_pca.fit_transform(X_pca_train)\n",
    "X_pca_test_ss = ss_pca.transform(X_pca_test)"
   ]
  },
  {
   "cell_type": "code",
   "execution_count": 88,
   "metadata": {},
   "outputs": [],
   "source": [
    "pca = PCA()\n",
    "pca_train = pca.fit_transform(X_pca_train_ss)\n",
    "pca_test = pca.transform(X_pca_test_ss)"
   ]
  },
  {
   "cell_type": "code",
   "execution_count": 93,
   "metadata": {},
   "outputs": [
    {
     "data": {
      "text/plain": [
       "array([3.46458254e-01, 1.80802578e-01, 5.26521101e-02, 4.16907414e-02,\n",
       "       2.57098421e-02, 2.02437879e-02, 1.53712495e-02, 1.51213762e-02,\n",
       "       1.48795525e-02, 1.30925781e-02, 1.27285423e-02, 1.24145507e-02,\n",
       "       1.13460167e-02, 1.10352979e-02, 1.10150856e-02, 1.06840669e-02,\n",
       "       1.03446197e-02, 1.02709171e-02, 9.85998971e-03, 9.64477967e-03,\n",
       "       9.43724050e-03, 8.77939702e-03, 8.58687921e-03, 8.22991609e-03,\n",
       "       7.77539202e-03, 7.63403763e-03, 7.50294110e-03, 6.74503750e-03,\n",
       "       6.45566782e-03, 6.36812828e-03, 6.22431335e-03, 6.07523218e-03,\n",
       "       5.29731568e-03, 5.01519653e-03, 4.61123306e-03, 4.17834580e-03,\n",
       "       3.97029862e-03, 3.81191731e-03, 3.58685065e-03, 3.36311581e-03,\n",
       "       3.16848997e-03, 2.90281351e-03, 2.59112805e-03, 2.56987120e-03,\n",
       "       2.27820976e-03, 2.05094420e-03, 1.95713186e-03, 1.88970037e-03,\n",
       "       1.70040628e-03, 1.64482272e-03, 1.46127352e-03, 1.40245021e-03,\n",
       "       1.26853753e-03, 1.21830836e-03, 1.12357251e-03, 1.04805662e-03,\n",
       "       9.52323121e-04, 8.70521804e-04, 8.33724270e-04, 7.38950674e-04,\n",
       "       6.98524754e-04, 6.70800571e-04, 6.48279269e-04, 5.88812087e-04,\n",
       "       5.62020644e-04, 5.11399744e-04, 4.83581582e-04, 4.07291623e-04,\n",
       "       3.52782287e-04, 3.15726278e-04, 3.00114241e-04, 2.69398308e-04,\n",
       "       2.43519976e-04, 2.12366235e-04, 1.97171104e-04, 1.48500607e-04,\n",
       "       1.23439660e-04, 1.16922013e-04, 9.85594550e-05, 8.12655274e-05,\n",
       "       7.15148777e-05, 5.72264500e-05, 4.79049867e-05, 2.74132802e-05,\n",
       "       2.39006222e-05, 1.63138617e-05, 1.31974296e-05, 8.17798049e-06,\n",
       "       5.78532668e-06, 4.71941126e-06, 3.52731339e-06, 1.61798414e-06,\n",
       "       1.04761081e-06, 9.32303573e-07, 3.82476193e-07, 1.99974139e-07,\n",
       "       3.33993440e-08, 6.83268430e-32, 2.23104816e-33, 2.23104816e-33,\n",
       "       2.23104816e-33, 2.23104816e-33, 2.23104816e-33, 2.23104816e-33,\n",
       "       2.23104816e-33, 2.23104816e-33, 2.23104816e-33, 2.23104816e-33])"
      ]
     },
     "execution_count": 93,
     "metadata": {},
     "output_type": "execute_result"
    }
   ],
   "source": [
    "pca.explained_variance_ratio_"
   ]
  },
  {
   "cell_type": "markdown",
   "metadata": {},
   "source": [
    "### Skree Plot"
   ]
  },
  {
   "cell_type": "code",
   "execution_count": 116,
   "metadata": {},
   "outputs": [
    {
     "data": {
      "text/plain": [
       "Text(0.5, 0, 'Component')"
      ]
     },
     "execution_count": 116,
     "metadata": {},
     "output_type": "execute_result"
    },
    {
     "data": {
      "image/png": "[encoded data removed]",
      "text/plain": [
       "<Figure size 432x288 with 1 Axes>"
      ]
     },
     "metadata": {
      "needs_background": "light"
     },
     "output_type": "display_data"
    }
   ],
   "source": [
    "index = list(range(1,7))\n",
    "plt.bar(index, pca.explained_variance_ratio_[0:6])\n",
    "plt.title('Scree plot for PCA')\n",
    "plt.ylabel('Proportion of variance explained')\n",
    "plt.xlabel('Component')"
   ]
  },
  {
   "cell_type": "markdown",
   "metadata": {},
   "source": [
    "## Interpretation:\n",
    "* First PC explains 34.6%\n",
    "* Second PC explains 18.1%\n",
    "* Third PC explains 5.3%\n",
    "* Fourth PC explains 4.2% \n",
    "* Fifth PC explains 2.6%\n",
    "* Sixth PC explains 2.0%\n",
    "* Not a great proportion of the variance in the fee is explained by this extensive dataset.  Will try with the top 4 and top 6."
   ]
  },
  {
   "cell_type": "code",
   "execution_count": 94,
   "metadata": {},
   "outputs": [],
   "source": [
    "eig_values = pca.explained_variance_\n",
    "pc1 = pca.components_[0]\n",
    "pc2 = pca.components_[1]\n",
    "pc3 = pca.components_[2]\n",
    "pc4 = pca.components_[3]\n",
    "pc5 = pca.components_[4]\n",
    "pc6 = pca.components_[5]"
   ]
  },
  {
   "cell_type": "code",
   "execution_count": 97,
   "metadata": {},
   "outputs": [],
   "source": [
    "#Getting factor loadings:\n",
    "loading1 = pc1*np.sqrt(eig_values[0])\n",
    "loading1_df = pd.Series(loading1, index=features)\n",
    "\n",
    "loading2 = pc1*np.sqrt(eig_values[1])\n",
    "loading2_df = pd.Series(loading2, index=features)\n",
    "\n",
    "loading3 = pc1*np.sqrt(eig_values[2])\n",
    "loading3_df = pd.Series(loading3, index=features)\n",
    "\n",
    "loading4 = pc1*np.sqrt(eig_values[3])\n",
    "loading4_df = pd.Series(loading4, index=features)\n",
    "\n",
    "loading5 = pc1*np.sqrt(eig_values[4])\n",
    "loading5_df = pd.Series(loading5, index=features)\n",
    "\n",
    "loading6 = pc1*np.sqrt(eig_values[5])\n",
    "loading6_df = pd.Series(loading6, index=features)"
   ]
  },
  {
   "cell_type": "code",
   "execution_count": 98,
   "metadata": {},
   "outputs": [
    {
     "data": {
      "text/plain": [
       "carries                       0.942927\n",
       "touches                       0.937835\n",
       "pass_targets                  0.934726\n",
       "touches_live_ball             0.930271\n",
       "passes_received               0.927423\n",
       "mins_num                      0.918523\n",
       "full_90s_played               0.918509\n",
       "games_start                   0.915104\n",
       "passes_attempted_short        0.901616\n",
       "carry_distance                0.899439\n",
       "passes_attempted              0.892546\n",
       "touches_mid_3rd               0.889924\n",
       "passes_completed_short        0.876717\n",
       "progressive_passes            0.872760\n",
       "games                         0.851811\n",
       "carry_progressive_distance    0.847406\n",
       "passes_completed              0.846407\n",
       "pressure_regains              0.843924\n",
       "pressures                     0.807855\n",
       "sca_passes_live               0.799697\n",
       "blocked_passes                0.793656\n",
       "passes_attempted_medium       0.788200\n",
       "passes_total_dist             0.781253\n",
       "dribble_vs                    0.778360\n",
       "sca                           0.777204\n",
       "blocks                        0.770946\n",
       "passes_into_final_third       0.769554\n",
       "tackles_interceptions         0.767312\n",
       "tackles                       0.765201\n",
       "tackles_won                   0.753527\n",
       "dribbled_past                 0.750692\n",
       "touches_att_3rd               0.747731\n",
       "pressures_def_3rd             0.736171\n",
       "passes_into_penalty_area      0.734450\n",
       "passes_completed_medium       0.732626\n",
       "assisted_shots                0.722194\n",
       "passes_prog_dist              0.719963\n",
       "pressures_mid_3rd             0.718511\n",
       "passes_attempted_long         0.709953\n",
       "tackles_mid_3rd               0.699053\n",
       "dribble_tackles               0.661922\n",
       "interceptions                 0.655386\n",
       "passes_completed_long         0.655383\n",
       "dribbles_completed            0.654518\n",
       "passes_right_foot             0.652906\n",
       "players_dribbled_past         0.647408\n",
       "xa                            0.643863\n",
       "tackles_att_3rd               0.641787\n",
       "tackles_def_3rd               0.629036\n",
       "gca_passes_live               0.628643\n",
       "gca                           0.625531\n",
       "dribbles                      0.623816\n",
       "dispossessed                  0.582445\n",
       "assists                       0.549264\n",
       "yellow_cards                  0.532006\n",
       "shots_total                   0.523733\n",
       "crosses_into_penalty_area     0.496424\n",
       "touches_def_3rd               0.492935\n",
       "miscontrols                   0.476354\n",
       "passes_left_foot              0.454825\n",
       "sca_shots                     0.453142\n",
       "sca_passes_dead               0.452117\n",
       "sca_fouled                    0.444702\n",
       "sca_defense                   0.442034\n",
       "touches_att_pen_area          0.435700\n",
       "pressures_att_3rd             0.431985\n",
       "sca_dribbles                  0.416488\n",
       "shots_on_target               0.414005\n",
       "nutmegs                       0.396904\n",
       "gca_passes_dead               0.371314\n",
       "xg                            0.334897\n",
       "blocked_shots                 0.326763\n",
       "aerials_won                   0.326183\n",
       "goals                         0.319672\n",
       "npxg                          0.317123\n",
       "npxp                          0.317123\n",
       "touches_def_pen_area          0.312531\n",
       "aerials_lost                  0.304573\n",
       "clearances                    0.302481\n",
       "gca_shots                     0.278603\n",
       "pens_attempts                 0.261085\n",
       "gca_fouled                    0.260024\n",
       "gca_dribbles                  0.246010\n",
       "pens_successful               0.240746\n",
       "buying_club_mega              0.224230\n",
       "gca_og_for                    0.199267\n",
       "errors                        0.177734\n",
       "blocked_shots_saves           0.165033\n",
       "midfielder                    0.148323\n",
       "gca_defense                   0.115361\n",
       "Brazil                        0.068041\n",
       "other_SA                      0.058253\n",
       "xa_net                        0.055853\n",
       "red_cards                     0.048974\n",
       "Argentina                     0.047855\n",
       "Spain                         0.032824\n",
       "defender                      0.031754\n",
       "French                        0.011335\n",
       "oceanian                      0.004564\n",
       "CAF                           0.003006\n",
       "Germany                      -0.014312\n",
       "England                      -0.021616\n",
       "other_euro                   -0.047911\n",
       "Italy                        -0.050793\n",
       "selling_club_mega            -0.051415\n",
       "age_y                        -0.075438\n",
       "Concacaf                     -0.102276\n",
       "attacker                     -0.159391\n",
       "dtype: float64"
      ]
     },
     "execution_count": 98,
     "metadata": {},
     "output_type": "execute_result"
    }
   ],
   "source": [
    "loading1_df.sort_values(ascending=False)"
   ]
  },
  {
   "cell_type": "markdown",
   "metadata": {},
   "source": [
    "## PC1 loadings:\n",
    "* Variables loading above 0.9:\n",
    "carries                       \n",
    "touches                       \n",
    "pass_targets                  \n",
    "touches_live_ball             \n",
    "passes_received               \n",
    "mins_num                      \n",
    "full_90s_played               \n",
    "games_start                   \n",
    "passes_attempted_short\n",
    "\n",
    "* Carries/touches etc go hand in hand. Makes sense these would track together\n",
    "* mins, full 90's played and starts are measures of playing time and certainly would be correlated."
   ]
  },
  {
   "cell_type": "code",
   "execution_count": 99,
   "metadata": {},
   "outputs": [
    {
     "data": {
      "text/plain": [
       "carries                       0.681169\n",
       "touches                       0.677491\n",
       "pass_targets                  0.675244\n",
       "touches_live_ball             0.672027\n",
       "passes_received               0.669969\n",
       "mins_num                      0.663540\n",
       "full_90s_played               0.663529\n",
       "games_start                   0.661070\n",
       "passes_attempted_short        0.651326\n",
       "carry_distance                0.649753\n",
       "passes_attempted              0.644774\n",
       "touches_mid_3rd               0.642880\n",
       "passes_completed_short        0.633339\n",
       "progressive_passes            0.630480\n",
       "games                         0.615347\n",
       "carry_progressive_distance    0.612165\n",
       "passes_completed              0.611443\n",
       "pressure_regains              0.609650\n",
       "pressures                     0.583593\n",
       "sca_passes_live               0.577700\n",
       "blocked_passes                0.573336\n",
       "passes_attempted_medium       0.569395\n",
       "passes_total_dist             0.564376\n",
       "dribble_vs                    0.562286\n",
       "sca                           0.561451\n",
       "blocks                        0.556930\n",
       "passes_into_final_third       0.555924\n",
       "tackles_interceptions         0.554305\n",
       "tackles                       0.552780\n",
       "tackles_won                   0.544347\n",
       "dribbled_past                 0.542299\n",
       "touches_att_3rd               0.540160\n",
       "pressures_def_3rd             0.531809\n",
       "passes_into_penalty_area      0.530566\n",
       "passes_completed_medium       0.529248\n",
       "assisted_shots                0.521712\n",
       "passes_prog_dist              0.520100\n",
       "pressures_mid_3rd             0.519051\n",
       "passes_attempted_long         0.512869\n",
       "tackles_mid_3rd               0.504995\n",
       "dribble_tackles               0.478172\n",
       "interceptions                 0.473450\n",
       "passes_completed_long         0.473448\n",
       "dribbles_completed            0.472823\n",
       "passes_right_foot             0.471659\n",
       "players_dribbled_past         0.467687\n",
       "xa                            0.465126\n",
       "tackles_att_3rd               0.463626\n",
       "tackles_def_3rd               0.454415\n",
       "gca_passes_live               0.454130\n",
       "gca                           0.451883\n",
       "dribbles                      0.450644\n",
       "dispossessed                  0.420757\n",
       "assists                       0.396788\n",
       "yellow_cards                  0.384321\n",
       "shots_total                   0.378344\n",
       "crosses_into_penalty_area     0.358616\n",
       "touches_def_3rd               0.356096\n",
       "miscontrols                   0.344118\n",
       "passes_left_foot              0.328565\n",
       "sca_shots                     0.327349\n",
       "sca_passes_dead               0.326609\n",
       "sca_fouled                    0.321252\n",
       "sca_defense                   0.319325\n",
       "touches_att_pen_area          0.314749\n",
       "pressures_att_3rd             0.312065\n",
       "sca_dribbles                  0.300870\n",
       "shots_on_target               0.299076\n",
       "nutmegs                       0.286723\n",
       "gca_passes_dead               0.268237\n",
       "xg                            0.241929\n",
       "blocked_shots                 0.236053\n",
       "aerials_won                   0.235634\n",
       "goals                         0.230931\n",
       "npxg                          0.229089\n",
       "npxp                          0.229089\n",
       "touches_def_pen_area          0.225772\n",
       "aerials_lost                  0.220023\n",
       "clearances                    0.218512\n",
       "gca_shots                     0.201263\n",
       "pens_attempts                 0.188607\n",
       "gca_fouled                    0.187841\n",
       "gca_dribbles                  0.177717\n",
       "pens_successful               0.173914\n",
       "buying_club_mega              0.161983\n",
       "gca_og_for                    0.143950\n",
       "errors                        0.128395\n",
       "blocked_shots_saves           0.119220\n",
       "midfielder                    0.107148\n",
       "gca_defense                   0.083337\n",
       "Brazil                        0.049153\n",
       "other_SA                      0.042082\n",
       "xa_net                        0.040348\n",
       "red_cards                     0.035379\n",
       "Argentina                     0.034570\n",
       "Spain                         0.023712\n",
       "defender                      0.022939\n",
       "French                        0.008188\n",
       "oceanian                      0.003297\n",
       "CAF                           0.002171\n",
       "Germany                      -0.010339\n",
       "England                      -0.015615\n",
       "other_euro                   -0.034611\n",
       "Italy                        -0.036692\n",
       "selling_club_mega            -0.037142\n",
       "age_y                        -0.054496\n",
       "Concacaf                     -0.073884\n",
       "attacker                     -0.115143\n",
       "dtype: float64"
      ]
     },
     "execution_count": 99,
     "metadata": {},
     "output_type": "execute_result"
    }
   ],
   "source": [
    "loading2_df.sort_values(ascending=False)"
   ]
  },
  {
   "cell_type": "code",
   "execution_count": 100,
   "metadata": {},
   "outputs": [
    {
     "data": {
      "text/plain": [
       "carries                       0.367587\n",
       "touches                       0.365602\n",
       "pass_targets                  0.364390\n",
       "touches_live_ball             0.362654\n",
       "passes_received               0.361543\n",
       "mins_num                      0.358074\n",
       "full_90s_played               0.358068\n",
       "games_start                   0.356741\n",
       "passes_attempted_short        0.351483\n",
       "carry_distance                0.350634\n",
       "passes_attempted              0.347947\n",
       "touches_mid_3rd               0.346925\n",
       "passes_completed_short        0.341776\n",
       "progressive_passes            0.340233\n",
       "games                         0.332067\n",
       "carry_progressive_distance    0.330350\n",
       "passes_completed              0.329960\n",
       "pressure_regains              0.328992\n",
       "pressures                     0.314931\n",
       "sca_passes_live               0.311751\n",
       "blocked_passes                0.309396\n",
       "passes_attempted_medium       0.307269\n",
       "passes_total_dist             0.304561\n",
       "dribble_vs                    0.303433\n",
       "sca                           0.302983\n",
       "blocks                        0.300543\n",
       "passes_into_final_third       0.300000\n",
       "tackles_interceptions         0.299126\n",
       "tackles                       0.298303\n",
       "tackles_won                   0.293752\n",
       "dribbled_past                 0.292647\n",
       "touches_att_3rd               0.291493\n",
       "pressures_def_3rd             0.286986\n",
       "passes_into_penalty_area      0.286315\n",
       "passes_completed_medium       0.285604\n",
       "assisted_shots                0.281538\n",
       "passes_prog_dist              0.280668\n",
       "pressures_mid_3rd             0.280102\n",
       "passes_attempted_long         0.276765\n",
       "tackles_mid_3rd               0.272516\n",
       "dribble_tackles               0.258041\n",
       "interceptions                 0.255494\n",
       "passes_completed_long         0.255492\n",
       "dribbles_completed            0.255155\n",
       "passes_right_foot             0.254527\n",
       "players_dribbled_past         0.252383\n",
       "xa                            0.251001\n",
       "tackles_att_3rd               0.250192\n",
       "tackles_def_3rd               0.245221\n",
       "gca_passes_live               0.245068\n",
       "gca                           0.243855\n",
       "dribbles                      0.243186\n",
       "dispossessed                  0.227058\n",
       "assists                       0.214123\n",
       "yellow_cards                  0.207395\n",
       "shots_total                   0.204170\n",
       "crosses_into_penalty_area     0.193524\n",
       "touches_def_3rd               0.192164\n",
       "miscontrols                   0.185700\n",
       "passes_left_foot              0.177308\n",
       "sca_shots                     0.176651\n",
       "sca_passes_dead               0.176252\n",
       "sca_fouled                    0.173361\n",
       "sca_defense                   0.172321\n",
       "touches_att_pen_area          0.169852\n",
       "pressures_att_3rd             0.168403\n",
       "sca_dribbles                  0.162362\n",
       "shots_on_target               0.161394\n",
       "nutmegs                       0.154728\n",
       "gca_passes_dead               0.144752\n",
       "xg                            0.130555\n",
       "blocked_shots                 0.127384\n",
       "aerials_won                   0.127158\n",
       "goals                         0.124620\n",
       "npxg                          0.123626\n",
       "npxp                          0.123626\n",
       "touches_def_pen_area          0.121836\n",
       "aerials_lost                  0.118734\n",
       "clearances                    0.117918\n",
       "gca_shots                     0.108610\n",
       "pens_attempts                 0.101780\n",
       "gca_fouled                    0.101367\n",
       "gca_dribbles                  0.095904\n",
       "pens_successful               0.093851\n",
       "buying_club_mega              0.087413\n",
       "gca_og_for                    0.077681\n",
       "errors                        0.069287\n",
       "blocked_shots_saves           0.064336\n",
       "midfielder                    0.057822\n",
       "gca_defense                   0.044972\n",
       "Brazil                        0.026525\n",
       "other_SA                      0.022709\n",
       "xa_net                        0.021773\n",
       "red_cards                     0.019092\n",
       "Argentina                     0.018655\n",
       "Spain                         0.012796\n",
       "defender                      0.012379\n",
       "French                        0.004419\n",
       "oceanian                      0.001779\n",
       "CAF                           0.001172\n",
       "Germany                      -0.005580\n",
       "England                      -0.008427\n",
       "other_euro                   -0.018678\n",
       "Italy                        -0.019801\n",
       "selling_club_mega            -0.020043\n",
       "age_y                        -0.029408\n",
       "Concacaf                     -0.039871\n",
       "attacker                     -0.062136\n",
       "dtype: float64"
      ]
     },
     "execution_count": 100,
     "metadata": {},
     "output_type": "execute_result"
    }
   ],
   "source": [
    "loading3_df.sort_values(ascending=False)"
   ]
  },
  {
   "cell_type": "code",
   "execution_count": 101,
   "metadata": {},
   "outputs": [
    {
     "data": {
      "text/plain": [
       "carries                       0.327094\n",
       "touches                       0.325328\n",
       "pass_targets                  0.324249\n",
       "touches_live_ball             0.322704\n",
       "passes_received               0.321716\n",
       "mins_num                      0.318629\n",
       "full_90s_played               0.318623\n",
       "games_start                   0.317442\n",
       "passes_attempted_short        0.312763\n",
       "carry_distance                0.312008\n",
       "passes_attempted              0.309617\n",
       "touches_mid_3rd               0.308708\n",
       "passes_completed_short        0.304126\n",
       "progressive_passes            0.302753\n",
       "games                         0.295487\n",
       "carry_progressive_distance    0.293958\n",
       "passes_completed              0.293612\n",
       "pressure_regains              0.292751\n",
       "pressures                     0.280238\n",
       "sca_passes_live               0.277409\n",
       "blocked_passes                0.275313\n",
       "passes_attempted_medium       0.273420\n",
       "passes_total_dist             0.271011\n",
       "dribble_vs                    0.270007\n",
       "sca                           0.269606\n",
       "blocks                        0.267435\n",
       "passes_into_final_third       0.266952\n",
       "tackles_interceptions         0.266175\n",
       "tackles                       0.265442\n",
       "tackles_won                   0.261393\n",
       "dribbled_past                 0.260409\n",
       "touches_att_3rd               0.259382\n",
       "pressures_def_3rd             0.255372\n",
       "passes_into_penalty_area      0.254775\n",
       "passes_completed_medium       0.254142\n",
       "assisted_shots                0.250523\n",
       "passes_prog_dist              0.249749\n",
       "pressures_mid_3rd             0.249246\n",
       "passes_attempted_long         0.246277\n",
       "tackles_mid_3rd               0.242496\n",
       "dribble_tackles               0.229616\n",
       "interceptions                 0.227348\n",
       "passes_completed_long         0.227347\n",
       "dribbles_completed            0.227047\n",
       "passes_right_foot             0.226488\n",
       "players_dribbled_past         0.224581\n",
       "xa                            0.223351\n",
       "tackles_att_3rd               0.222631\n",
       "tackles_def_3rd               0.218208\n",
       "gca_passes_live               0.218071\n",
       "gca                           0.216992\n",
       "dribbles                      0.216397\n",
       "dispossessed                  0.202045\n",
       "assists                       0.190535\n",
       "yellow_cards                  0.184549\n",
       "shots_total                   0.181679\n",
       "crosses_into_penalty_area     0.172206\n",
       "touches_def_3rd               0.170995\n",
       "miscontrols                   0.165243\n",
       "passes_left_foot              0.157775\n",
       "sca_shots                     0.157192\n",
       "sca_passes_dead               0.156836\n",
       "sca_fouled                    0.154264\n",
       "sca_defense                   0.153338\n",
       "touches_att_pen_area          0.151141\n",
       "pressures_att_3rd             0.149852\n",
       "sca_dribbles                  0.144476\n",
       "shots_on_target               0.143615\n",
       "nutmegs                       0.137683\n",
       "gca_passes_dead               0.128806\n",
       "xg                            0.116173\n",
       "blocked_shots                 0.113351\n",
       "aerials_won                   0.113150\n",
       "goals                         0.110892\n",
       "npxg                          0.110007\n",
       "npxp                          0.110007\n",
       "touches_def_pen_area          0.108415\n",
       "aerials_lost                  0.105654\n",
       "clearances                    0.104928\n",
       "gca_shots                     0.096645\n",
       "pens_attempts                 0.090568\n",
       "gca_fouled                    0.090200\n",
       "gca_dribbles                  0.085339\n",
       "pens_successful               0.083513\n",
       "buying_club_mega              0.077783\n",
       "gca_og_for                    0.069124\n",
       "errors                        0.061654\n",
       "blocked_shots_saves           0.057249\n",
       "midfielder                    0.051452\n",
       "gca_defense                   0.040018\n",
       "Brazil                        0.023603\n",
       "other_SA                      0.020207\n",
       "xa_net                        0.019375\n",
       "red_cards                     0.016989\n",
       "Argentina                     0.016600\n",
       "Spain                         0.011386\n",
       "defender                      0.011015\n",
       "French                        0.003932\n",
       "oceanian                      0.001583\n",
       "CAF                           0.001043\n",
       "Germany                      -0.004965\n",
       "England                      -0.007498\n",
       "other_euro                   -0.016620\n",
       "Italy                        -0.017620\n",
       "selling_club_mega            -0.017835\n",
       "age_y                        -0.026169\n",
       "Concacaf                     -0.035479\n",
       "attacker                     -0.055291\n",
       "dtype: float64"
      ]
     },
     "execution_count": 101,
     "metadata": {},
     "output_type": "execute_result"
    }
   ],
   "source": [
    "loading4_df.sort_values(ascending=False)"
   ]
  },
  {
   "cell_type": "code",
   "execution_count": 102,
   "metadata": {},
   "outputs": [
    {
     "data": {
      "text/plain": [
       "carries                       0.256864\n",
       "touches                       0.255476\n",
       "pass_targets                  0.254629\n",
       "touches_live_ball             0.253416\n",
       "passes_received               0.252640\n",
       "mins_num                      0.250216\n",
       "full_90s_played               0.250212\n",
       "games_start                   0.249284\n",
       "passes_attempted_short        0.245610\n",
       "carry_distance                0.245017\n",
       "passes_attempted              0.243139\n",
       "touches_mid_3rd               0.242425\n",
       "passes_completed_short        0.238827\n",
       "progressive_passes            0.237749\n",
       "games                         0.232043\n",
       "carry_progressive_distance    0.230842\n",
       "passes_completed              0.230570\n",
       "pressure_regains              0.229894\n",
       "pressures                     0.220068\n",
       "sca_passes_live               0.217846\n",
       "blocked_passes                0.216200\n",
       "passes_attempted_medium       0.214714\n",
       "passes_total_dist             0.212822\n",
       "dribble_vs                    0.212034\n",
       "sca                           0.211719\n",
       "blocks                        0.210014\n",
       "passes_into_final_third       0.209635\n",
       "tackles_interceptions         0.209024\n",
       "tackles                       0.208449\n",
       "tackles_won                   0.205269\n",
       "dribbled_past                 0.204497\n",
       "touches_att_3rd               0.203690\n",
       "pressures_def_3rd             0.200541\n",
       "passes_into_penalty_area      0.200072\n",
       "passes_completed_medium       0.199575\n",
       "assisted_shots                0.196733\n",
       "passes_prog_dist              0.196126\n",
       "pressures_mid_3rd             0.195730\n",
       "passes_attempted_long         0.193399\n",
       "tackles_mid_3rd               0.190430\n",
       "dribble_tackles               0.180315\n",
       "interceptions                 0.178534\n",
       "passes_completed_long         0.178533\n",
       "dribbles_completed            0.178298\n",
       "passes_right_foot             0.177859\n",
       "players_dribbled_past         0.176361\n",
       "xa                            0.175395\n",
       "tackles_att_3rd               0.174830\n",
       "tackles_def_3rd               0.171356\n",
       "gca_passes_live               0.171249\n",
       "gca                           0.170401\n",
       "dribbles                      0.169934\n",
       "dispossessed                  0.158664\n",
       "assists                       0.149625\n",
       "yellow_cards                  0.144924\n",
       "shots_total                   0.142671\n",
       "crosses_into_penalty_area     0.135231\n",
       "touches_def_3rd               0.134281\n",
       "miscontrols                   0.129764\n",
       "passes_left_foot              0.123899\n",
       "sca_shots                     0.123441\n",
       "sca_passes_dead               0.123162\n",
       "sca_fouled                    0.121142\n",
       "sca_defense                   0.120415\n",
       "touches_att_pen_area          0.118689\n",
       "pressures_att_3rd             0.117677\n",
       "sca_dribbles                  0.113456\n",
       "shots_on_target               0.112779\n",
       "nutmegs                       0.108121\n",
       "gca_passes_dead               0.101150\n",
       "xg                            0.091230\n",
       "blocked_shots                 0.089014\n",
       "aerials_won                   0.088856\n",
       "goals                         0.087082\n",
       "npxg                          0.086388\n",
       "npxp                          0.086388\n",
       "touches_def_pen_area          0.085137\n",
       "aerials_lost                  0.082969\n",
       "clearances                    0.082399\n",
       "gca_shots                     0.075895\n",
       "pens_attempts                 0.071122\n",
       "gca_fouled                    0.070833\n",
       "gca_dribbles                  0.067016\n",
       "pens_successful               0.065582\n",
       "buying_club_mega              0.061083\n",
       "gca_og_for                    0.054282\n",
       "errors                        0.048417\n",
       "blocked_shots_saves           0.044957\n",
       "midfielder                    0.040405\n",
       "gca_defense                   0.031426\n",
       "Brazil                        0.018535\n",
       "other_SA                      0.015869\n",
       "xa_net                        0.015215\n",
       "red_cards                     0.013341\n",
       "Argentina                     0.013036\n",
       "Spain                         0.008942\n",
       "defender                      0.008650\n",
       "French                        0.003088\n",
       "oceanian                      0.001243\n",
       "CAF                           0.000819\n",
       "Germany                      -0.003899\n",
       "England                      -0.005888\n",
       "other_euro                   -0.013052\n",
       "Italy                        -0.013836\n",
       "selling_club_mega            -0.014006\n",
       "age_y                        -0.020550\n",
       "Concacaf                     -0.027861\n",
       "attacker                     -0.043420\n",
       "dtype: float64"
      ]
     },
     "execution_count": 102,
     "metadata": {},
     "output_type": "execute_result"
    }
   ],
   "source": [
    "loading5_df.sort_values(ascending=False)"
   ]
  },
  {
   "cell_type": "code",
   "execution_count": 103,
   "metadata": {},
   "outputs": [
    {
     "data": {
      "text/plain": [
       "carries                       0.227929\n",
       "touches                       0.226698\n",
       "pass_targets                  0.225946\n",
       "touches_live_ball             0.224869\n",
       "passes_received               0.224181\n",
       "mins_num                      0.222030\n",
       "full_90s_played               0.222026\n",
       "games_start                   0.221203\n",
       "passes_attempted_short        0.217942\n",
       "carry_distance                0.217416\n",
       "passes_attempted              0.215750\n",
       "touches_mid_3rd               0.215116\n",
       "passes_completed_short        0.211924\n",
       "progressive_passes            0.210967\n",
       "games                         0.205904\n",
       "carry_progressive_distance    0.204839\n",
       "passes_completed              0.204597\n",
       "pressure_regains              0.203997\n",
       "pressures                     0.195278\n",
       "sca_passes_live               0.193306\n",
       "blocked_passes                0.191846\n",
       "passes_attempted_medium       0.190527\n",
       "passes_total_dist             0.188848\n",
       "dribble_vs                    0.188149\n",
       "sca                           0.187869\n",
       "blocks                        0.186356\n",
       "passes_into_final_third       0.186020\n",
       "tackles_interceptions         0.185478\n",
       "tackles                       0.184968\n",
       "tackles_won                   0.182146\n",
       "dribbled_past                 0.181461\n",
       "touches_att_3rd               0.180745\n",
       "pressures_def_3rd             0.177951\n",
       "passes_into_penalty_area      0.177534\n",
       "passes_completed_medium       0.177094\n",
       "assisted_shots                0.174572\n",
       "passes_prog_dist              0.174033\n",
       "pressures_mid_3rd             0.173682\n",
       "passes_attempted_long         0.171613\n",
       "tackles_mid_3rd               0.168978\n",
       "dribble_tackles               0.160003\n",
       "interceptions                 0.158423\n",
       "passes_completed_long         0.158422\n",
       "dribbles_completed            0.158213\n",
       "passes_right_foot             0.157823\n",
       "players_dribbled_past         0.156494\n",
       "xa                            0.155637\n",
       "tackles_att_3rd               0.155136\n",
       "tackles_def_3rd               0.152053\n",
       "gca_passes_live               0.151958\n",
       "gca                           0.151206\n",
       "dribbles                      0.150792\n",
       "dispossessed                  0.140791\n",
       "assists                       0.132771\n",
       "yellow_cards                  0.128599\n",
       "shots_total                   0.126599\n",
       "crosses_into_penalty_area     0.119998\n",
       "touches_def_3rd               0.119155\n",
       "miscontrols                   0.115146\n",
       "passes_left_foot              0.109942\n",
       "sca_shots                     0.109536\n",
       "sca_passes_dead               0.109288\n",
       "sca_fouled                    0.107495\n",
       "sca_defense                   0.106850\n",
       "touches_att_pen_area          0.105319\n",
       "pressures_att_3rd             0.104421\n",
       "sca_dribbles                  0.100675\n",
       "shots_on_target               0.100075\n",
       "nutmegs                       0.095941\n",
       "gca_passes_dead               0.089756\n",
       "xg                            0.080953\n",
       "blocked_shots                 0.078987\n",
       "aerials_won                   0.078846\n",
       "goals                         0.077273\n",
       "npxg                          0.076656\n",
       "npxp                          0.076656\n",
       "touches_def_pen_area          0.075546\n",
       "aerials_lost                  0.073623\n",
       "clearances                    0.073117\n",
       "gca_shots                     0.067345\n",
       "pens_attempts                 0.063111\n",
       "gca_fouled                    0.062854\n",
       "gca_dribbles                  0.059467\n",
       "pens_successful               0.058194\n",
       "buying_club_mega              0.054202\n",
       "gca_og_for                    0.048168\n",
       "errors                        0.042963\n",
       "blocked_shots_saves           0.039893\n",
       "midfielder                    0.035853\n",
       "gca_defense                   0.027886\n",
       "Brazil                        0.016447\n",
       "other_SA                      0.014081\n",
       "xa_net                        0.013501\n",
       "red_cards                     0.011838\n",
       "Argentina                     0.011568\n",
       "Spain                         0.007934\n",
       "defender                      0.007676\n",
       "French                        0.002740\n",
       "oceanian                      0.001103\n",
       "CAF                           0.000727\n",
       "Germany                      -0.003460\n",
       "England                      -0.005225\n",
       "other_euro                   -0.011581\n",
       "Italy                        -0.012278\n",
       "selling_club_mega            -0.012428\n",
       "age_y                        -0.018235\n",
       "Concacaf                     -0.024723\n",
       "attacker                     -0.038529\n",
       "dtype: float64"
      ]
     },
     "execution_count": 103,
     "metadata": {},
     "output_type": "execute_result"
    }
   ],
   "source": [
    "loading6_df.sort_values(ascending=False)"
   ]
  },
  {
   "cell_type": "markdown",
   "metadata": {},
   "source": [
    "## Interpretation:\n",
    "* The order of the features is the same for all 6 PCs but the loadings get progressively lower.  It's strange to me that the features explaining the most variance along orthagonal axes is the same."
   ]
  },
  {
   "cell_type": "markdown",
   "metadata": {},
   "source": [
    "## Modeling the PCs"
   ]
  },
  {
   "cell_type": "code",
   "execution_count": 122,
   "metadata": {},
   "outputs": [],
   "source": [
    "pca_train_6 = pca_train[:,0:6]\n",
    "pca_test_6 = pca_test[:,0:6]"
   ]
  },
  {
   "cell_type": "code",
   "execution_count": 126,
   "metadata": {},
   "outputs": [
    {
     "name": "stdout",
     "output_type": "stream",
     "text": [
      "Model eval for: LinearRegression()\n",
      "Training adj R squared: 0.25\n",
      "Training Root Mean Squared Error: 14494782.407\n",
      "Testing adj R squared: 0.227\n",
      "Testing Root Mean Squared Error: 17085176.007\n"
     ]
    }
   ],
   "source": [
    "lm_pca = LinearRegression()\n",
    "lm_pca = lm_pca.fit(pca_train_6, y_train)\n",
    "cf.model_evaluation(lm_pca, pca_train_6,pca_test_6, y_train, y_test)"
   ]
  },
  {
   "cell_type": "code",
   "execution_count": 127,
   "metadata": {},
   "outputs": [
    {
     "data": {
      "text/plain": [
       "GridSearchCV(estimator=Ridge(),\n",
       "             param_grid={'alpha': [0.001, 0.01, 0.5, 1, 5, 10]})"
      ]
     },
     "execution_count": 127,
     "metadata": {},
     "output_type": "execute_result"
    }
   ],
   "source": [
    "ridge_params_pca = {'alpha':[0.001,0.01,.5,1,5,10]}\n",
    "ridge_pca = Ridge()\n",
    "grid_ridge_pca = GridSearchCV(estimator=ridge_pca, param_grid=ridge_params_pca)\n",
    "grid_ridge_pca.fit(pca_train_6, y_train)"
   ]
  },
  {
   "cell_type": "code",
   "execution_count": 128,
   "metadata": {},
   "outputs": [
    {
     "data": {
      "text/plain": [
       "Ridge(alpha=10)"
      ]
     },
     "execution_count": 128,
     "metadata": {},
     "output_type": "execute_result"
    }
   ],
   "source": [
    "grid_ridge_pca.best_estimator_"
   ]
  },
  {
   "cell_type": "code",
   "execution_count": 129,
   "metadata": {},
   "outputs": [
    {
     "data": {
      "text/plain": [
       "GridSearchCV(estimator=Ridge(),\n",
       "             param_grid={'alpha': [10, 20, 30, 40, 50, 60, 70, 80, 90, 100]})"
      ]
     },
     "execution_count": 129,
     "metadata": {},
     "output_type": "execute_result"
    }
   ],
   "source": [
    "ridge_params_pca2 = {'alpha':[10,20,30,40,50,60,70,80,90,100]}\n",
    "ridge_pca = Ridge()\n",
    "grid_ridge_pca2 = GridSearchCV(estimator=ridge_pca, param_grid=ridge_params_pca2)\n",
    "grid_ridge_pca2.fit(pca_train_6, y_train)"
   ]
  },
  {
   "cell_type": "code",
   "execution_count": 130,
   "metadata": {},
   "outputs": [
    {
     "data": {
      "text/plain": [
       "Ridge(alpha=100)"
      ]
     },
     "execution_count": 130,
     "metadata": {},
     "output_type": "execute_result"
    }
   ],
   "source": [
    "grid_ridge_pca2.best_estimator_"
   ]
  },
  {
   "cell_type": "code",
   "execution_count": 131,
   "metadata": {},
   "outputs": [
    {
     "data": {
      "text/plain": [
       "GridSearchCV(estimator=Ridge(),\n",
       "             param_grid={'alpha': [100, 150, 200, 250, 300, 350, 500]})"
      ]
     },
     "execution_count": 131,
     "metadata": {},
     "output_type": "execute_result"
    }
   ],
   "source": [
    "ridge_params_pca3 = {'alpha':[100,150,200,250,300,350,500]}\n",
    "ridge_pca = Ridge()\n",
    "grid_ridge_pca3 = GridSearchCV(estimator=ridge_pca, param_grid=ridge_params_pca3)\n",
    "grid_ridge_pca3.fit(pca_train_6, y_train)"
   ]
  },
  {
   "cell_type": "code",
   "execution_count": 132,
   "metadata": {},
   "outputs": [
    {
     "data": {
      "text/plain": [
       "Ridge(alpha=100)"
      ]
     },
     "execution_count": 132,
     "metadata": {},
     "output_type": "execute_result"
    }
   ],
   "source": [
    "grid_ridge_pca3.best_estimator_"
   ]
  },
  {
   "cell_type": "code",
   "execution_count": 133,
   "metadata": {},
   "outputs": [
    {
     "data": {
      "text/plain": [
       "GridSearchCV(estimator=Ridge(),\n",
       "             param_grid={'alpha': [95, 97, 100, 105, 110, 115, 120, 125]})"
      ]
     },
     "execution_count": 133,
     "metadata": {},
     "output_type": "execute_result"
    }
   ],
   "source": [
    "ridge_params_pca4 = {'alpha':[95,97,100,105,110,115,120,125]}\n",
    "ridge_pca = Ridge()\n",
    "grid_ridge_pca4 = GridSearchCV(estimator=ridge_pca, param_grid=ridge_params_pca4)\n",
    "grid_ridge_pca4.fit(pca_train_6, y_train)"
   ]
  },
  {
   "cell_type": "code",
   "execution_count": 135,
   "metadata": {},
   "outputs": [
    {
     "data": {
      "text/plain": [
       "Ridge(alpha=100)"
      ]
     },
     "execution_count": 135,
     "metadata": {},
     "output_type": "execute_result"
    }
   ],
   "source": [
    "grid_ridge_pca4.best_estimator_"
   ]
  },
  {
   "cell_type": "code",
   "execution_count": 136,
   "metadata": {},
   "outputs": [
    {
     "name": "stdout",
     "output_type": "stream",
     "text": [
      "Model eval for: Ridge(alpha=100)\n",
      "Training adj R squared: 0.249\n",
      "Training Root Mean Squared Error: 13620290.547\n",
      "Testing adj R squared: 0.228\n",
      "Testing Root Mean Squared Error: 17167525.836\n"
     ]
    }
   ],
   "source": [
    "cf.model_evaluation(grid_ridge_pca4.best_estimator_,pca_train_6,pca_test_6, y_train, y_test)"
   ]
  },
  {
   "cell_type": "code",
   "execution_count": 137,
   "metadata": {},
   "outputs": [
    {
     "data": {
      "text/plain": [
       "GridSearchCV(estimator=Lasso(),\n",
       "             param_grid={'alpha': [0.001, 0.01, 1, 10, 50, 100]})"
      ]
     },
     "execution_count": 137,
     "metadata": {},
     "output_type": "execute_result"
    }
   ],
   "source": [
    "lasso_params_pca = {'alpha':[0.001,0.01,1,10,50,100]}\n",
    "lasso_pca = Lasso()\n",
    "grid_lasso_pca = GridSearchCV(estimator=lasso_pca, param_grid=lasso_params_pca)\n",
    "grid_lasso_pca.fit(pca_train_6, y_train)"
   ]
  },
  {
   "cell_type": "code",
   "execution_count": 138,
   "metadata": {},
   "outputs": [
    {
     "data": {
      "text/plain": [
       "Lasso(alpha=0.01)"
      ]
     },
     "execution_count": 138,
     "metadata": {},
     "output_type": "execute_result"
    }
   ],
   "source": [
    "grid_lasso_pca.best_estimator_"
   ]
  },
  {
   "cell_type": "code",
   "execution_count": 139,
   "metadata": {},
   "outputs": [
    {
     "data": {
      "text/plain": [
       "GridSearchCV(estimator=Lasso(),\n",
       "             param_grid={'alpha': [0.005, 0.007, 0.01, 0.02, 0.03, 0.04, 0.05]})"
      ]
     },
     "execution_count": 139,
     "metadata": {},
     "output_type": "execute_result"
    }
   ],
   "source": [
    "lasso_params_pca2 = {'alpha':[0.005,0.007,0.01,0.02,0.03,0.04,0.05]}\n",
    "lasso_pca = Lasso()\n",
    "grid_lasso_pca2 = GridSearchCV(estimator=lasso_pca, param_grid=lasso_params_pca2)\n",
    "grid_lasso_pca2.fit(pca_train_6, y_train)"
   ]
  },
  {
   "cell_type": "code",
   "execution_count": 140,
   "metadata": {},
   "outputs": [
    {
     "data": {
      "text/plain": [
       "Lasso(alpha=0.02)"
      ]
     },
     "execution_count": 140,
     "metadata": {},
     "output_type": "execute_result"
    }
   ],
   "source": [
    "grid_lasso_pca2.best_estimator_"
   ]
  },
  {
   "cell_type": "code",
   "execution_count": 141,
   "metadata": {},
   "outputs": [
    {
     "name": "stdout",
     "output_type": "stream",
     "text": [
      "Model eval for: Lasso(alpha=0.02)\n",
      "Training adj R squared: 0.249\n",
      "Training Root Mean Squared Error: 13629796.957\n",
      "Testing adj R squared: 0.226\n",
      "Testing Root Mean Squared Error: 17198891.809\n"
     ]
    }
   ],
   "source": [
    "cf.model_evaluation(grid_lasso_pca2.best_estimator_,pca_train_6,pca_test_6, y_train, y_test)"
   ]
  },
  {
   "cell_type": "code",
   "execution_count": 142,
   "metadata": {},
   "outputs": [],
   "source": [
    "poly2_pca = PolynomialFeatures(degree=2)"
   ]
  },
  {
   "cell_type": "code",
   "execution_count": 143,
   "metadata": {},
   "outputs": [],
   "source": [
    "pca_train_6_poly = poly2_pca.fit_transform(pca_train_6)\n",
    "pca_test_6_poly = poly2_pca.fit_transform(pca_test_6)"
   ]
  },
  {
   "cell_type": "code",
   "execution_count": 149,
   "metadata": {},
   "outputs": [
    {
     "name": "stdout",
     "output_type": "stream",
     "text": [
      "Model eval for: LinearRegression()\n",
      "Training adj R squared: -0.207\n",
      "Training Root Mean Squared Error: 519962593.567\n",
      "Testing adj R squared: -0.325\n",
      "Testing Root Mean Squared Error: 49010845.54\n"
     ]
    }
   ],
   "source": [
    "lm_pca_poly = LinearRegression()\n",
    "lm_pca_poly = lm_pca_poly.fit(pca_train_6_poly, y_train)\n",
    "cf.model_evaluation(lm_pca_poly, pca_train_6_poly, pca_test_6_poly, y_train, y_test)"
   ]
  },
  {
   "cell_type": "code",
   "execution_count": 150,
   "metadata": {},
   "outputs": [
    {
     "data": {
      "text/plain": [
       "GridSearchCV(estimator=Ridge(),\n",
       "             param_grid={'alpha': [10, 50, 100, 150, 200, 250]})"
      ]
     },
     "execution_count": 150,
     "metadata": {},
     "output_type": "execute_result"
    }
   ],
   "source": [
    "ridge_params_pca_poly = {'alpha':[10,50,100,150,200,250]}\n",
    "ridge_pca_poly = Ridge()\n",
    "grid_ridge_pca_poly = GridSearchCV(estimator=ridge_pca_poly, param_grid=ridge_params_pca_poly)\n",
    "grid_ridge_pca_poly.fit(pca_train_6_poly, y_train)"
   ]
  },
  {
   "cell_type": "code",
   "execution_count": 151,
   "metadata": {},
   "outputs": [
    {
     "data": {
      "text/plain": [
       "Ridge(alpha=50)"
      ]
     },
     "execution_count": 151,
     "metadata": {},
     "output_type": "execute_result"
    }
   ],
   "source": [
    "grid_ridge_pca_poly.best_estimator_"
   ]
  },
  {
   "cell_type": "code",
   "execution_count": 152,
   "metadata": {},
   "outputs": [
    {
     "data": {
      "text/plain": [
       "GridSearchCV(estimator=Ridge(),\n",
       "             param_grid={'alpha': [25, 35, 45, 50, 55, 65, 75]})"
      ]
     },
     "execution_count": 152,
     "metadata": {},
     "output_type": "execute_result"
    }
   ],
   "source": [
    "ridge_params_pca_poly2 = {'alpha':[25,35,45,50,55,65,75]}\n",
    "ridge_pca_poly = Ridge()\n",
    "grid_ridge_pca_poly2 = GridSearchCV(estimator=ridge_pca_poly, param_grid=ridge_params_pca_poly2)\n",
    "grid_ridge_pca_poly2.fit(pca_train_6_poly, y_train)"
   ]
  },
  {
   "cell_type": "code",
   "execution_count": 153,
   "metadata": {},
   "outputs": [
    {
     "data": {
      "text/plain": [
       "Ridge(alpha=50)"
      ]
     },
     "execution_count": 153,
     "metadata": {},
     "output_type": "execute_result"
    }
   ],
   "source": [
    "grid_ridge_pca_poly2.best_estimator_"
   ]
  },
  {
   "cell_type": "code",
   "execution_count": 154,
   "metadata": {},
   "outputs": [
    {
     "name": "stdout",
     "output_type": "stream",
     "text": [
      "Model eval for: Ridge(alpha=50)\n",
      "Training adj R squared: 0.309\n",
      "Training Root Mean Squared Error: 12161790.534\n",
      "Testing adj R squared: 0.203\n",
      "Testing Root Mean Squared Error: 16720144.303\n"
     ]
    }
   ],
   "source": [
    "cf.model_evaluation(grid_ridge_pca_poly2.best_estimator_, pca_train_6_poly, pca_test_6_poly, y_train,y_test)"
   ]
  },
  {
   "cell_type": "code",
   "execution_count": 155,
   "metadata": {},
   "outputs": [
    {
     "data": {
      "text/plain": [
       "GridSearchCV(estimator=Lasso(),\n",
       "             param_grid={'alpha': [10, 50, 100, 150, 200, 250]})"
      ]
     },
     "execution_count": 155,
     "metadata": {},
     "output_type": "execute_result"
    }
   ],
   "source": [
    "lasso_params_pca_poly = {'alpha':[10,50,100,150,200,250]}\n",
    "lasso_pca_poly = Lasso()\n",
    "grid_lasso_pca_poly = GridSearchCV(estimator=lasso_pca_poly, param_grid=lasso_params_pca_poly)\n",
    "grid_lasso_pca_poly.fit(pca_train_6_poly, y_train)"
   ]
  },
  {
   "cell_type": "code",
   "execution_count": 156,
   "metadata": {},
   "outputs": [
    {
     "data": {
      "text/plain": [
       "Lasso(alpha=10)"
      ]
     },
     "execution_count": 156,
     "metadata": {},
     "output_type": "execute_result"
    }
   ],
   "source": [
    "grid_lasso_pca_poly.best_estimator_"
   ]
  },
  {
   "cell_type": "code",
   "execution_count": 157,
   "metadata": {},
   "outputs": [
    {
     "data": {
      "text/plain": [
       "GridSearchCV(estimator=Lasso(),\n",
       "             param_grid={'alpha': [0.01, 0.1, 1, 3, 5, 7, 10, 11, 14, 17, 20]})"
      ]
     },
     "execution_count": 157,
     "metadata": {},
     "output_type": "execute_result"
    }
   ],
   "source": [
    "lasso_params_pca_poly2 = {'alpha':[.01,.1,1,3,5,7,10,11,14,17,20]}\n",
    "lasso_pca_poly = Lasso()\n",
    "grid_lasso_pca_poly2 = GridSearchCV(estimator=lasso_pca_poly, param_grid=lasso_params_pca_poly2)\n",
    "grid_lasso_pca_poly2.fit(pca_train_6_poly, y_train)"
   ]
  },
  {
   "cell_type": "code",
   "execution_count": 158,
   "metadata": {},
   "outputs": [
    {
     "data": {
      "text/plain": [
       "Lasso(alpha=0.01)"
      ]
     },
     "execution_count": 158,
     "metadata": {},
     "output_type": "execute_result"
    }
   ],
   "source": [
    "grid_lasso_pca_poly2.best_estimator_"
   ]
  },
  {
   "cell_type": "code",
   "execution_count": 159,
   "metadata": {},
   "outputs": [
    {
     "data": {
      "text/plain": [
       "GridSearchCV(estimator=Lasso(),\n",
       "             param_grid={'alpha': [0.0001, 0.001, 0.005, 0.01, 0.03, 0.05,\n",
       "                                   0.07]})"
      ]
     },
     "execution_count": 159,
     "metadata": {},
     "output_type": "execute_result"
    }
   ],
   "source": [
    "lasso_params_pca_poly3 = {'alpha':[.0001,.001,.005,.01,.03,.05,.07]}\n",
    "lasso_pca_poly = Lasso()\n",
    "grid_lasso_pca_poly3 = GridSearchCV(estimator=lasso_pca_poly, param_grid=lasso_params_pca_poly3)\n",
    "grid_lasso_pca_poly3.fit(pca_train_6_poly, y_train)"
   ]
  },
  {
   "cell_type": "code",
   "execution_count": 160,
   "metadata": {},
   "outputs": [
    {
     "data": {
      "text/plain": [
       "Lasso(alpha=0.05)"
      ]
     },
     "execution_count": 160,
     "metadata": {},
     "output_type": "execute_result"
    }
   ],
   "source": [
    "grid_lasso_pca_poly3.best_estimator_"
   ]
  },
  {
   "cell_type": "code",
   "execution_count": 161,
   "metadata": {},
   "outputs": [
    {
     "name": "stdout",
     "output_type": "stream",
     "text": [
      "Model eval for: Lasso(alpha=0.05)\n",
      "Training adj R squared: 0.3\n",
      "Training Root Mean Squared Error: 11895724.317\n",
      "Testing adj R squared: 0.212\n",
      "Testing Root Mean Squared Error: 17303987.374\n"
     ]
    }
   ],
   "source": [
    "cf.model_evaluation(grid_lasso_pca_poly3.best_estimator_, pca_train_6_poly, pca_test_6_poly, y_train, y_test)"
   ]
  },
  {
   "cell_type": "code",
   "execution_count": null,
   "metadata": {},
   "outputs": [],
   "source": []
  },
  {
   "cell_type": "code",
   "execution_count": null,
   "metadata": {},
   "outputs": [],
   "source": []
  },
  {
   "cell_type": "code",
   "execution_count": null,
   "metadata": {},
   "outputs": [],
   "source": []
  },
  {
   "cell_type": "code",
   "execution_count": null,
   "metadata": {},
   "outputs": [],
   "source": []
  },
  {
   "cell_type": "code",
   "execution_count": null,
   "metadata": {},
   "outputs": [],
   "source": []
  },
  {
   "cell_type": "code",
   "execution_count": null,
   "metadata": {},
   "outputs": [],
   "source": []
  },
  {
   "cell_type": "code",
   "execution_count": null,
   "metadata": {},
   "outputs": [],
   "source": []
  },
  {
   "cell_type": "code",
   "execution_count": null,
   "metadata": {},
   "outputs": [],
   "source": []
  },
  {
   "cell_type": "code",
   "execution_count": null,
   "metadata": {},
   "outputs": [],
   "source": []
  }
 ],
 "metadata": {
  "kernelspec": {
   "display_name": "Python 3",
   "language": "python",
   "name": "python3"
  },
  "language_info": {
   "codemirror_mode": {
    "name": "ipython",
    "version": 3
   },
   "file_extension": ".py",
   "mimetype": "text/x-python",
   "name": "python",
   "nbconvert_exporter": "python",
   "pygments_lexer": "ipython3",
   "version": "3.6.9"
  }
 },
 "nbformat": 4,
 "nbformat_minor": 4
}
