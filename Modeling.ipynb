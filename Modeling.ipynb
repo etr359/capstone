{
 "cells": [
  {
   "cell_type": "code",
   "execution_count": 1,
   "metadata": {},
   "outputs": [],
   "source": [
    "import pandas as pd\n",
    "import numpy as np\n",
    "from matplotlib import pyplot as plt\n",
    "from sklearn import linear_model\n",
    "from sklearn.linear_model import LinearRegression, Lasso, Ridge\n",
    "from sklearn.model_selection import train_test_split, GridSearchCV\n",
    "from sklearn import metrics\n",
    "from sklearn.preprocessing import PolynomialFeatures, StandardScaler\n",
    "import seaborn as sns\n",
    "import py_files.custom_functions as cf"
   ]
  },
  {
   "cell_type": "code",
   "execution_count": 2,
   "metadata": {},
   "outputs": [],
   "source": [
    "df = pd.read_csv('data/df_with_engineered_features.csv')"
   ]
  },
  {
   "cell_type": "code",
   "execution_count": 3,
   "metadata": {},
   "outputs": [],
   "source": [
    "df['attacker'] = df['position_agg'].map(lambda x: 1 if x =='attacker' else 0)\n",
    "df['defender'] = df['position_agg'].map(lambda x: 1 if x =='defender' else 0)\n",
    "df['midfielder'] = df['position_agg'].map(lambda x: 1 if x =='midfielder' else 0)"
   ]
  },
  {
   "cell_type": "code",
   "execution_count": 4,
   "metadata": {},
   "outputs": [],
   "source": [
    "y = df['fee_final_logged']\n",
    "#First draft model - limited to basic demographics and statistics\n",
    "#age, nationality (France reference category)\n",
    "#number of starts, position (defenders reference category)\n",
    "#Goals, assists, completed passes, blocks, clearances and interceptions (3 most important offensive and defensive stats)\n",
    "\n",
    "reduced = ['age_y', 'French','Spain', 'Italy', 'Germany', 'Brazil', 'England', 'Argentina', 'other_euro',\n",
    "             'other_SA', 'Concacaf', 'oceanian', 'CAF',\n",
    "             'games_start','attacker','midfielder',\n",
    "             'goals', 'assists','passes_completed','blocks','clearances','interceptions']\n",
    "X_reduced = df[reduced]"
   ]
  },
  {
   "cell_type": "code",
   "execution_count": 5,
   "metadata": {},
   "outputs": [],
   "source": [
    "#Train-test split \n",
    "X_red_train, X_red_test, y_train, y_test = train_test_split(X_reduced, y, random_state=9,test_size=0.2)"
   ]
  },
  {
   "cell_type": "code",
   "execution_count": 6,
   "metadata": {},
   "outputs": [],
   "source": [
    "# Using standard scaler for ridge and lasso regression\n",
    "\n",
    "ss = StandardScaler()\n",
    "X_red_train_ss = ss.fit_transform(X_red_train)\n",
    "X_red_test_ss = ss.transform(X_red_test)"
   ]
  },
  {
   "cell_type": "markdown",
   "metadata": {},
   "source": [
    "## First order polynomials:\n",
    "* Linear regression\n",
    "* GridSearch Ridge\n",
    "* GridSearch Lasso"
   ]
  },
  {
   "cell_type": "markdown",
   "metadata": {},
   "source": [
    "### OLS regression"
   ]
  },
  {
   "cell_type": "code",
   "execution_count": 7,
   "metadata": {},
   "outputs": [],
   "source": [
    "#instantiate a linear regression object\n",
    "lm = LinearRegression()\n",
    "\n",
    "#fit the linear regression to the data\n",
    "lm = lm.fit(X_red_train_ss, y_train)"
   ]
  },
  {
   "cell_type": "code",
   "execution_count": 8,
   "metadata": {},
   "outputs": [
    {
     "name": "stdout",
     "output_type": "stream",
     "text": [
      "Model eval for: LinearRegression()\n",
      "Training adj R squared: 0.31\n",
      "Training Root Mean Squared Error: 11180629.076\n",
      "Testing adj R squared: 0.127\n",
      "Testing Root Mean Squared Error: 18079019.443\n"
     ]
    }
   ],
   "source": [
    "cf.model_evaluation(lm, X_red_train_ss,X_red_test_ss, y_train, y_test)"
   ]
  },
  {
   "cell_type": "markdown",
   "metadata": {},
   "source": [
    "### Grid searching lambda for ridge"
   ]
  },
  {
   "cell_type": "code",
   "execution_count": 9,
   "metadata": {},
   "outputs": [
    {
     "data": {
      "text/plain": [
       "GridSearchCV(estimator=Ridge(),\n",
       "             param_grid={'alpha': [0.001, 0.01, 0.5, 1, 5, 10]})"
      ]
     },
     "execution_count": 9,
     "metadata": {},
     "output_type": "execute_result"
    }
   ],
   "source": [
    "ridge_params = {'alpha':[0.001,0.01,.5,1,5,10]}\n",
    "ridge = Ridge()\n",
    "grid_ridge = GridSearchCV(estimator=ridge, param_grid=ridge_params)\n",
    "grid_ridge.fit(X_red_train_ss, y_train)"
   ]
  },
  {
   "cell_type": "code",
   "execution_count": 10,
   "metadata": {},
   "outputs": [
    {
     "data": {
      "text/plain": [
       "Ridge(alpha=10)"
      ]
     },
     "execution_count": 10,
     "metadata": {},
     "output_type": "execute_result"
    }
   ],
   "source": [
    "grid_ridge.best_estimator_"
   ]
  },
  {
   "cell_type": "code",
   "execution_count": 11,
   "metadata": {},
   "outputs": [
    {
     "data": {
      "text/plain": [
       "GridSearchCV(estimator=Ridge(), param_grid={'alpha': [8, 10, 12, 16, 20, 25]})"
      ]
     },
     "execution_count": 11,
     "metadata": {},
     "output_type": "execute_result"
    }
   ],
   "source": [
    "ridge_params2 = {'alpha':[8,10,12,16,20,25]}\n",
    "ridge = Ridge()\n",
    "grid_ridge2 = GridSearchCV(estimator=ridge, param_grid=ridge_params2)\n",
    "grid_ridge2.fit(X_red_train_ss, y_train)"
   ]
  },
  {
   "cell_type": "code",
   "execution_count": 12,
   "metadata": {},
   "outputs": [
    {
     "data": {
      "text/plain": [
       "Ridge(alpha=25)"
      ]
     },
     "execution_count": 12,
     "metadata": {},
     "output_type": "execute_result"
    }
   ],
   "source": [
    "grid_ridge2.best_estimator_"
   ]
  },
  {
   "cell_type": "code",
   "execution_count": 13,
   "metadata": {},
   "outputs": [
    {
     "data": {
      "text/plain": [
       "GridSearchCV(estimator=Ridge(), param_grid={'alpha': [25, 100, 1000, 10000000]})"
      ]
     },
     "execution_count": 13,
     "metadata": {},
     "output_type": "execute_result"
    }
   ],
   "source": [
    "ridge_params3 = {'alpha':[25,100,1000,10000000]}\n",
    "ridge = Ridge()\n",
    "grid_ridge3 = GridSearchCV(estimator=ridge, param_grid=ridge_params3)\n",
    "grid_ridge3.fit(X_red_train_ss, y_train)"
   ]
  },
  {
   "cell_type": "code",
   "execution_count": 14,
   "metadata": {},
   "outputs": [
    {
     "data": {
      "text/plain": [
       "Ridge(alpha=25)"
      ]
     },
     "execution_count": 14,
     "metadata": {},
     "output_type": "execute_result"
    }
   ],
   "source": [
    "grid_ridge3.best_estimator_"
   ]
  },
  {
   "cell_type": "code",
   "execution_count": 15,
   "metadata": {},
   "outputs": [
    {
     "data": {
      "text/plain": [
       "GridSearchCV(estimator=Ridge(), param_grid={'alpha': [22, 25, 27, 30, 35]})"
      ]
     },
     "execution_count": 15,
     "metadata": {},
     "output_type": "execute_result"
    }
   ],
   "source": [
    "ridge_params4 = {'alpha':[22,25,27,30,35]}\n",
    "ridge = Ridge()\n",
    "grid_ridge4 = GridSearchCV(estimator=ridge, param_grid=ridge_params4)\n",
    "grid_ridge4.fit(X_red_train_ss, y_train)"
   ]
  },
  {
   "cell_type": "code",
   "execution_count": 16,
   "metadata": {},
   "outputs": [
    {
     "data": {
      "text/plain": [
       "Ridge(alpha=27)"
      ]
     },
     "execution_count": 16,
     "metadata": {},
     "output_type": "execute_result"
    }
   ],
   "source": [
    "grid_ridge4.best_estimator_"
   ]
  },
  {
   "cell_type": "code",
   "execution_count": 17,
   "metadata": {},
   "outputs": [
    {
     "name": "stdout",
     "output_type": "stream",
     "text": [
      "Model eval for: Ridge(alpha=27)\n",
      "Training adj R squared: 0.306\n",
      "Training Root Mean Squared Error: 11380364.041\n",
      "Testing adj R squared: 0.138\n",
      "Testing Root Mean Squared Error: 17988762.121\n"
     ]
    }
   ],
   "source": [
    "cf.model_evaluation(grid_ridge4.best_estimator_, X_red_train_ss,X_red_test_ss, y_train, y_test)"
   ]
  },
  {
   "cell_type": "markdown",
   "metadata": {},
   "source": [
    "### Grid Searching lambda for Lasso"
   ]
  },
  {
   "cell_type": "code",
   "execution_count": 18,
   "metadata": {},
   "outputs": [
    {
     "data": {
      "text/plain": [
       "GridSearchCV(estimator=Lasso(),\n",
       "             param_grid={'alpha': [0.001, 0.01, 0.5, 1, 5, 10]})"
      ]
     },
     "execution_count": 18,
     "metadata": {},
     "output_type": "execute_result"
    }
   ],
   "source": [
    "lasso_params = {'alpha':[0.001,0.01,.5,1,5,10]}\n",
    "lasso = Lasso()\n",
    "grid_lasso = GridSearchCV(estimator=lasso, param_grid=lasso_params)\n",
    "grid_lasso.fit(X_red_train_ss, y_train)"
   ]
  },
  {
   "cell_type": "code",
   "execution_count": 19,
   "metadata": {},
   "outputs": [
    {
     "data": {
      "text/plain": [
       "Lasso(alpha=0.01)"
      ]
     },
     "execution_count": 19,
     "metadata": {},
     "output_type": "execute_result"
    }
   ],
   "source": [
    "grid_lasso.best_estimator_"
   ]
  },
  {
   "cell_type": "code",
   "execution_count": 20,
   "metadata": {},
   "outputs": [
    {
     "data": {
      "text/plain": [
       "GridSearchCV(estimator=Lasso(),\n",
       "             param_grid={'alpha': [0.003, 0.007, 0.01, 0.03, 0.07]})"
      ]
     },
     "execution_count": 20,
     "metadata": {},
     "output_type": "execute_result"
    }
   ],
   "source": [
    "lasso_params2 = {'alpha':[0.003,0.007,0.01,.03,0.07]}\n",
    "lasso = Lasso()\n",
    "grid_lasso2 = GridSearchCV(estimator=lasso, param_grid=lasso_params2)\n",
    "grid_lasso2.fit(X_red_train_ss, y_train)"
   ]
  },
  {
   "cell_type": "code",
   "execution_count": 21,
   "metadata": {},
   "outputs": [
    {
     "data": {
      "text/plain": [
       "Lasso(alpha=0.007)"
      ]
     },
     "execution_count": 21,
     "metadata": {},
     "output_type": "execute_result"
    }
   ],
   "source": [
    "grid_lasso2.best_estimator_"
   ]
  },
  {
   "cell_type": "code",
   "execution_count": 22,
   "metadata": {},
   "outputs": [
    {
     "name": "stdout",
     "output_type": "stream",
     "text": [
      "Model eval for: Lasso(alpha=0.007)\n",
      "Training adj R squared: 0.308\n",
      "Training Root Mean Squared Error: 11261098.835\n",
      "Testing adj R squared: 0.144\n",
      "Testing Root Mean Squared Error: 17947248.468\n"
     ]
    }
   ],
   "source": [
    "cf.model_evaluation(grid_lasso2.best_estimator_, X_red_train_ss,X_red_test_ss, y_train, y_test)"
   ]
  },
  {
   "cell_type": "markdown",
   "metadata": {},
   "source": [
    "## Second order polynomials"
   ]
  },
  {
   "cell_type": "code",
   "execution_count": 23,
   "metadata": {},
   "outputs": [
    {
     "data": {
      "text/html": [
       "<div>\n",
       "<style scoped>\n",
       "    .dataframe tbody tr th:only-of-type {\n",
       "        vertical-align: middle;\n",
       "    }\n",
       "\n",
       "    .dataframe tbody tr th {\n",
       "        vertical-align: top;\n",
       "    }\n",
       "\n",
       "    .dataframe thead th {\n",
       "        text-align: right;\n",
       "    }\n",
       "</style>\n",
       "<table border=\"1\" class=\"dataframe\">\n",
       "  <thead>\n",
       "    <tr style=\"text-align: right;\">\n",
       "      <th></th>\n",
       "      <th>1</th>\n",
       "      <th>age_y</th>\n",
       "      <th>French</th>\n",
       "      <th>Spain</th>\n",
       "      <th>Italy</th>\n",
       "      <th>Germany</th>\n",
       "      <th>Brazil</th>\n",
       "      <th>England</th>\n",
       "      <th>Argentina</th>\n",
       "      <th>other_euro</th>\n",
       "      <th>...</th>\n",
       "      <th>passes_completed^2</th>\n",
       "      <th>passes_completed blocks</th>\n",
       "      <th>passes_completed clearances</th>\n",
       "      <th>passes_completed interceptions</th>\n",
       "      <th>blocks^2</th>\n",
       "      <th>blocks clearances</th>\n",
       "      <th>blocks interceptions</th>\n",
       "      <th>clearances^2</th>\n",
       "      <th>clearances interceptions</th>\n",
       "      <th>interceptions^2</th>\n",
       "    </tr>\n",
       "  </thead>\n",
       "  <tbody>\n",
       "    <tr>\n",
       "      <th>0</th>\n",
       "      <td>1.0</td>\n",
       "      <td>18.0</td>\n",
       "      <td>0.0</td>\n",
       "      <td>0.0</td>\n",
       "      <td>0.0</td>\n",
       "      <td>0.0</td>\n",
       "      <td>0.0</td>\n",
       "      <td>0.0</td>\n",
       "      <td>0.0</td>\n",
       "      <td>0.0</td>\n",
       "      <td>...</td>\n",
       "      <td>458329.0</td>\n",
       "      <td>19633.0</td>\n",
       "      <td>7447.0</td>\n",
       "      <td>10155.0</td>\n",
       "      <td>841.0</td>\n",
       "      <td>319.0</td>\n",
       "      <td>435.0</td>\n",
       "      <td>121.0</td>\n",
       "      <td>165.0</td>\n",
       "      <td>225.0</td>\n",
       "    </tr>\n",
       "    <tr>\n",
       "      <th>1</th>\n",
       "      <td>1.0</td>\n",
       "      <td>19.0</td>\n",
       "      <td>0.0</td>\n",
       "      <td>0.0</td>\n",
       "      <td>0.0</td>\n",
       "      <td>0.0</td>\n",
       "      <td>0.0</td>\n",
       "      <td>1.0</td>\n",
       "      <td>0.0</td>\n",
       "      <td>0.0</td>\n",
       "      <td>...</td>\n",
       "      <td>22201.0</td>\n",
       "      <td>1490.0</td>\n",
       "      <td>745.0</td>\n",
       "      <td>298.0</td>\n",
       "      <td>100.0</td>\n",
       "      <td>50.0</td>\n",
       "      <td>20.0</td>\n",
       "      <td>25.0</td>\n",
       "      <td>10.0</td>\n",
       "      <td>4.0</td>\n",
       "    </tr>\n",
       "    <tr>\n",
       "      <th>2</th>\n",
       "      <td>1.0</td>\n",
       "      <td>26.0</td>\n",
       "      <td>0.0</td>\n",
       "      <td>0.0</td>\n",
       "      <td>0.0</td>\n",
       "      <td>0.0</td>\n",
       "      <td>0.0</td>\n",
       "      <td>0.0</td>\n",
       "      <td>1.0</td>\n",
       "      <td>0.0</td>\n",
       "      <td>...</td>\n",
       "      <td>263169.0</td>\n",
       "      <td>15390.0</td>\n",
       "      <td>22059.0</td>\n",
       "      <td>8208.0</td>\n",
       "      <td>900.0</td>\n",
       "      <td>1290.0</td>\n",
       "      <td>480.0</td>\n",
       "      <td>1849.0</td>\n",
       "      <td>688.0</td>\n",
       "      <td>256.0</td>\n",
       "    </tr>\n",
       "    <tr>\n",
       "      <th>3</th>\n",
       "      <td>1.0</td>\n",
       "      <td>26.0</td>\n",
       "      <td>0.0</td>\n",
       "      <td>0.0</td>\n",
       "      <td>0.0</td>\n",
       "      <td>0.0</td>\n",
       "      <td>0.0</td>\n",
       "      <td>0.0</td>\n",
       "      <td>0.0</td>\n",
       "      <td>0.0</td>\n",
       "      <td>...</td>\n",
       "      <td>1121481.0</td>\n",
       "      <td>44478.0</td>\n",
       "      <td>5295.0</td>\n",
       "      <td>16944.0</td>\n",
       "      <td>1764.0</td>\n",
       "      <td>210.0</td>\n",
       "      <td>672.0</td>\n",
       "      <td>25.0</td>\n",
       "      <td>80.0</td>\n",
       "      <td>256.0</td>\n",
       "    </tr>\n",
       "    <tr>\n",
       "      <th>4</th>\n",
       "      <td>1.0</td>\n",
       "      <td>22.0</td>\n",
       "      <td>0.0</td>\n",
       "      <td>0.0</td>\n",
       "      <td>0.0</td>\n",
       "      <td>0.0</td>\n",
       "      <td>0.0</td>\n",
       "      <td>0.0</td>\n",
       "      <td>0.0</td>\n",
       "      <td>0.0</td>\n",
       "      <td>...</td>\n",
       "      <td>988036.0</td>\n",
       "      <td>23856.0</td>\n",
       "      <td>16898.0</td>\n",
       "      <td>21868.0</td>\n",
       "      <td>576.0</td>\n",
       "      <td>408.0</td>\n",
       "      <td>528.0</td>\n",
       "      <td>289.0</td>\n",
       "      <td>374.0</td>\n",
       "      <td>484.0</td>\n",
       "    </tr>\n",
       "  </tbody>\n",
       "</table>\n",
       "<p>5 rows × 276 columns</p>\n",
       "</div>"
      ],
      "text/plain": [
       "     1  age_y  French  Spain  Italy  Germany  Brazil  England  Argentina  \\\n",
       "0  1.0   18.0     0.0    0.0    0.0      0.0     0.0      0.0        0.0   \n",
       "1  1.0   19.0     0.0    0.0    0.0      0.0     0.0      1.0        0.0   \n",
       "2  1.0   26.0     0.0    0.0    0.0      0.0     0.0      0.0        1.0   \n",
       "3  1.0   26.0     0.0    0.0    0.0      0.0     0.0      0.0        0.0   \n",
       "4  1.0   22.0     0.0    0.0    0.0      0.0     0.0      0.0        0.0   \n",
       "\n",
       "   other_euro  ...  passes_completed^2  passes_completed blocks  \\\n",
       "0         0.0  ...            458329.0                  19633.0   \n",
       "1         0.0  ...             22201.0                   1490.0   \n",
       "2         0.0  ...            263169.0                  15390.0   \n",
       "3         0.0  ...           1121481.0                  44478.0   \n",
       "4         0.0  ...            988036.0                  23856.0   \n",
       "\n",
       "   passes_completed clearances  passes_completed interceptions  blocks^2  \\\n",
       "0                       7447.0                         10155.0     841.0   \n",
       "1                        745.0                           298.0     100.0   \n",
       "2                      22059.0                          8208.0     900.0   \n",
       "3                       5295.0                         16944.0    1764.0   \n",
       "4                      16898.0                         21868.0     576.0   \n",
       "\n",
       "   blocks clearances  blocks interceptions  clearances^2  \\\n",
       "0              319.0                 435.0         121.0   \n",
       "1               50.0                  20.0          25.0   \n",
       "2             1290.0                 480.0        1849.0   \n",
       "3              210.0                 672.0          25.0   \n",
       "4              408.0                 528.0         289.0   \n",
       "\n",
       "   clearances interceptions  interceptions^2  \n",
       "0                     165.0            225.0  \n",
       "1                      10.0              4.0  \n",
       "2                     688.0            256.0  \n",
       "3                      80.0            256.0  \n",
       "4                     374.0            484.0  \n",
       "\n",
       "[5 rows x 276 columns]"
      ]
     },
     "execution_count": 23,
     "metadata": {},
     "output_type": "execute_result"
    }
   ],
   "source": [
    "poly2 = PolynomialFeatures(degree=2)\n",
    "poly2_data = poly2.fit_transform(X_reduced)\n",
    "poly2_columns = poly2.get_feature_names(X_reduced.columns)\n",
    "X_reduced_poly = pd.DataFrame(poly2_data, columns=poly2_columns)\n",
    "X_reduced_poly.head()"
   ]
  },
  {
   "cell_type": "code",
   "execution_count": 24,
   "metadata": {},
   "outputs": [],
   "source": [
    "X_red_poly2_train, X_red_poly2_test, y_train, y_test = train_test_split(X_reduced_poly, y, random_state=9, test_size=0.2)"
   ]
  },
  {
   "cell_type": "code",
   "execution_count": 25,
   "metadata": {},
   "outputs": [],
   "source": [
    "# Using standard scaler for ridge and lasso regression\n",
    "ss_poly = StandardScaler()\n",
    "X_red_poly2_train_ss = ss_poly.fit_transform(X_red_poly2_train)\n",
    "X_red_poly2_test_ss = ss_poly.transform(X_red_poly2_test)"
   ]
  },
  {
   "cell_type": "code",
   "execution_count": 26,
   "metadata": {},
   "outputs": [],
   "source": [
    "#instantiate a linear regression object\n",
    "lm_poly = LinearRegression()\n",
    "\n",
    "#fit the linear regression to the data\n",
    "lm_poly = lm_poly.fit(X_red_poly2_train_ss, y_train)"
   ]
  },
  {
   "cell_type": "code",
   "execution_count": 27,
   "metadata": {},
   "outputs": [
    {
     "name": "stdout",
     "output_type": "stream",
     "text": [
      "Model eval for: LinearRegression()\n",
      "Training adj R squared: 0.474\n",
      "Training Root Mean Squared Error: 13543810.282\n",
      "Testing adj R squared: -3.9627525696792263e+24\n",
      "Testing Root Mean Squared Error: 616948549.737\n"
     ]
    }
   ],
   "source": [
    "cf.model_evaluation(lm_poly, X_red_poly2_train_ss, X_red_poly2_test_ss, y_train, y_test)"
   ]
  },
  {
   "cell_type": "code",
   "execution_count": 28,
   "metadata": {},
   "outputs": [
    {
     "name": "stdout",
     "output_type": "stream",
     "text": [
      "Training adj R squared: 0.474\n",
      "Training Root Mean Squared Error: 13543810.282\n",
      "Testing adj R squared: -3.9627525696792263e+24\n",
      "Testing Root Mean Squared Error: 616948549.737\n"
     ]
    }
   ],
   "source": [
    "#predict on the training and test set (modeled log of fee as outcome)\n",
    "log_y_poly2_train_pred = lm_poly.predict(X_red_poly2_train_ss)\n",
    "log_y_poly2_test_pred = lm_poly.predict(X_red_poly2_test_ss)\n",
    "\n",
    "#exponentiate the predicted values\n",
    "y_poly2_train_pred = np.exp(log_y_poly2_train_pred)\n",
    "y_poly2_test_pred = np.exp(log_y_poly2_test_pred)\n",
    "\n",
    "#calculate RMSE on exponentiated predicted and exponentiated y values to get RMSE in pounds\n",
    "train_rmse = np.sqrt(metrics.mean_squared_error(np.exp(y_train), y_poly2_train_pred))\n",
    "test_rmse = np.sqrt(metrics.mean_squared_error(np.exp(y_test), y_poly2_test_pred))\n",
    "\n",
    "print('Training adj R squared:', round(lm_poly.score(X_red_poly2_train_ss, y_train),3))\n",
    "print('Training Root Mean Squared Error:' , round(train_rmse,3))\n",
    "print('Testing adj R squared:', round(lm_poly.score(X_red_poly2_test_ss, y_test),3))\n",
    "print('Testing Root Mean Squared Error:' , round(test_rmse,3))"
   ]
  },
  {
   "cell_type": "code",
   "execution_count": 29,
   "metadata": {},
   "outputs": [
    {
     "data": {
      "text/plain": [
       "GridSearchCV(estimator=Ridge(),\n",
       "             param_grid={'alpha': [0.001, 0.01, 0.5, 1, 5, 10]})"
      ]
     },
     "execution_count": 29,
     "metadata": {},
     "output_type": "execute_result"
    }
   ],
   "source": [
    "ridge_poly2_params = {'alpha':[0.001,0.01,.5,1,5,10]}\n",
    "ridge_poly2 = Ridge()\n",
    "grid_poly2_ridge = GridSearchCV(estimator=ridge_poly2, param_grid=ridge_poly2_params)\n",
    "grid_poly2_ridge.fit(X_red_poly2_train_ss, y_train)"
   ]
  },
  {
   "cell_type": "code",
   "execution_count": 30,
   "metadata": {},
   "outputs": [
    {
     "data": {
      "text/plain": [
       "Ridge(alpha=10)"
      ]
     },
     "execution_count": 30,
     "metadata": {},
     "output_type": "execute_result"
    }
   ],
   "source": [
    "grid_poly2_ridge.best_estimator_"
   ]
  },
  {
   "cell_type": "code",
   "execution_count": 31,
   "metadata": {},
   "outputs": [
    {
     "data": {
      "text/plain": [
       "GridSearchCV(estimator=Ridge(),\n",
       "             param_grid={'alpha': [10, 15, 20, 25, 30, 35, 40]})"
      ]
     },
     "execution_count": 31,
     "metadata": {},
     "output_type": "execute_result"
    }
   ],
   "source": [
    "ridge_poly2_params2 = {'alpha':[10,15,20,25,30,35,40]}\n",
    "ridge_poly2 = Ridge()\n",
    "grid_poly2_ridge2 = GridSearchCV(estimator=ridge_poly2, param_grid=ridge_poly2_params2)\n",
    "grid_poly2_ridge2.fit(X_red_poly2_train_ss, y_train)"
   ]
  },
  {
   "cell_type": "code",
   "execution_count": 32,
   "metadata": {},
   "outputs": [
    {
     "data": {
      "text/plain": [
       "Ridge(alpha=40)"
      ]
     },
     "execution_count": 32,
     "metadata": {},
     "output_type": "execute_result"
    }
   ],
   "source": [
    "grid_poly2_ridge2.best_estimator_"
   ]
  },
  {
   "cell_type": "code",
   "execution_count": 33,
   "metadata": {},
   "outputs": [
    {
     "data": {
      "text/plain": [
       "GridSearchCV(estimator=Ridge(),\n",
       "             param_grid={'alpha': [40, 50, 60, 70, 80, 90, 100]})"
      ]
     },
     "execution_count": 33,
     "metadata": {},
     "output_type": "execute_result"
    }
   ],
   "source": [
    "ridge_poly2_params3 = {'alpha':[40,50,60,70,80,90,100]}\n",
    "ridge_poly2 = Ridge()\n",
    "grid_poly2_ridge3 = GridSearchCV(estimator=ridge_poly2, param_grid=ridge_poly2_params3)\n",
    "grid_poly2_ridge3.fit(X_red_poly2_train_ss, y_train)"
   ]
  },
  {
   "cell_type": "code",
   "execution_count": 34,
   "metadata": {},
   "outputs": [
    {
     "data": {
      "text/plain": [
       "Ridge(alpha=100)"
      ]
     },
     "execution_count": 34,
     "metadata": {},
     "output_type": "execute_result"
    }
   ],
   "source": [
    "grid_poly2_ridge3.best_estimator_"
   ]
  },
  {
   "cell_type": "code",
   "execution_count": 35,
   "metadata": {},
   "outputs": [
    {
     "data": {
      "text/plain": [
       "GridSearchCV(estimator=Ridge(), param_grid={'alpha': [100, 150, 200, 250, 300]})"
      ]
     },
     "execution_count": 35,
     "metadata": {},
     "output_type": "execute_result"
    }
   ],
   "source": [
    "ridge_poly2_params4 = {'alpha':[100,150,200,250,300]}\n",
    "ridge_poly2 = Ridge()\n",
    "grid_poly2_ridge4 = GridSearchCV(estimator=ridge_poly2, param_grid=ridge_poly2_params4)\n",
    "grid_poly2_ridge4.fit(X_red_poly2_train_ss, y_train)"
   ]
  },
  {
   "cell_type": "code",
   "execution_count": 36,
   "metadata": {},
   "outputs": [
    {
     "data": {
      "text/plain": [
       "Ridge(alpha=300)"
      ]
     },
     "execution_count": 36,
     "metadata": {},
     "output_type": "execute_result"
    }
   ],
   "source": [
    "grid_poly2_ridge4.best_estimator_"
   ]
  },
  {
   "cell_type": "code",
   "execution_count": 37,
   "metadata": {},
   "outputs": [
    {
     "data": {
      "text/plain": [
       "GridSearchCV(estimator=Ridge(),\n",
       "             param_grid={'alpha': [270, 290, 300, 310, 330, 340, 350]})"
      ]
     },
     "execution_count": 37,
     "metadata": {},
     "output_type": "execute_result"
    }
   ],
   "source": [
    "ridge_poly2_params5 = {'alpha':[270,290,300,310,330,340,350]}\n",
    "ridge_poly2 = Ridge()\n",
    "grid_poly2_ridge5 = GridSearchCV(estimator=ridge_poly2, param_grid=ridge_poly2_params5)\n",
    "grid_poly2_ridge5.fit(X_red_poly2_train_ss, y_train)"
   ]
  },
  {
   "cell_type": "code",
   "execution_count": 38,
   "metadata": {},
   "outputs": [
    {
     "data": {
      "text/plain": [
       "Ridge(alpha=330)"
      ]
     },
     "execution_count": 38,
     "metadata": {},
     "output_type": "execute_result"
    }
   ],
   "source": [
    "grid_poly2_ridge5.best_estimator_"
   ]
  },
  {
   "cell_type": "code",
   "execution_count": 39,
   "metadata": {},
   "outputs": [
    {
     "name": "stdout",
     "output_type": "stream",
     "text": [
      "Model eval for: Ridge(alpha=330)\n",
      "Training adj R squared: 0.365\n",
      "Training Root Mean Squared Error: 10808971.514\n",
      "Testing adj R squared: 0.14\n",
      "Testing Root Mean Squared Error: 18016336.391\n"
     ]
    }
   ],
   "source": [
    "cf.model_evaluation(grid_poly2_ridge5.best_estimator_, X_red_poly2_train_ss, X_red_poly2_test_ss, y_train,y_test)"
   ]
  },
  {
   "cell_type": "markdown",
   "metadata": {},
   "source": [
    "## Grid search for lasso lambda"
   ]
  },
  {
   "cell_type": "code",
   "execution_count": 40,
   "metadata": {},
   "outputs": [
    {
     "data": {
      "text/plain": [
       "GridSearchCV(estimator=Lasso(max_iter=7000),\n",
       "             param_grid={'alpha': [0.001, 0.01, 0.5, 1, 5, 10]})"
      ]
     },
     "execution_count": 40,
     "metadata": {},
     "output_type": "execute_result"
    }
   ],
   "source": [
    "lasso_poly2_params = {'alpha':[0.001,0.01,.5,1,5,10]}\n",
    "lasso_poly2 = Lasso(max_iter=7000)\n",
    "grid_poly2_lasso = GridSearchCV(estimator=lasso_poly2, param_grid=lasso_poly2_params)\n",
    "grid_poly2_lasso.fit(X_red_poly2_train_ss, y_train)"
   ]
  },
  {
   "cell_type": "code",
   "execution_count": 41,
   "metadata": {},
   "outputs": [
    {
     "data": {
      "text/plain": [
       "Lasso(alpha=0.01, max_iter=7000)"
      ]
     },
     "execution_count": 41,
     "metadata": {},
     "output_type": "execute_result"
    }
   ],
   "source": [
    "grid_poly2_lasso.best_estimator_"
   ]
  },
  {
   "cell_type": "code",
   "execution_count": 42,
   "metadata": {},
   "outputs": [
    {
     "data": {
      "text/plain": [
       "GridSearchCV(estimator=Lasso(max_iter=7000),\n",
       "             param_grid={'alpha': [0.003, 0.007, 0.01, 0.03, 0.07]})"
      ]
     },
     "execution_count": 42,
     "metadata": {},
     "output_type": "execute_result"
    }
   ],
   "source": [
    "lasso_poly2_params2 = {'alpha':[0.003,0.007,0.01,.03,0.07]}\n",
    "lasso_poly2 = Lasso(max_iter=7000)\n",
    "grid_poly2_lasso2 = GridSearchCV(estimator=lasso_poly2, param_grid=lasso_poly2_params2)\n",
    "grid_poly2_lasso2.fit(X_red_poly2_train_ss, y_train)"
   ]
  },
  {
   "cell_type": "code",
   "execution_count": 43,
   "metadata": {},
   "outputs": [
    {
     "data": {
      "text/plain": [
       "Lasso(alpha=0.07, max_iter=7000)"
      ]
     },
     "execution_count": 43,
     "metadata": {},
     "output_type": "execute_result"
    }
   ],
   "source": [
    "grid_poly2_lasso2.best_estimator_"
   ]
  },
  {
   "cell_type": "code",
   "execution_count": 44,
   "metadata": {},
   "outputs": [
    {
     "data": {
      "text/plain": [
       "GridSearchCV(estimator=Lasso(max_iter=7000),\n",
       "             param_grid={'alpha': [0.05, 0.07, 0.09, 0.11, 0.15, 0.2, 0.3,\n",
       "                                   0.4]})"
      ]
     },
     "execution_count": 44,
     "metadata": {},
     "output_type": "execute_result"
    }
   ],
   "source": [
    "lasso_poly2_params3 = {'alpha':[0.05,0.07,0.09,0.11,0.15,0.2,0.3,0.4]}\n",
    "lasso_poly2 = Lasso(max_iter=7000)\n",
    "grid_poly2_lasso3 = GridSearchCV(estimator=lasso_poly2, param_grid=lasso_poly2_params3)\n",
    "grid_poly2_lasso3.fit(X_red_poly2_train_ss, y_train)"
   ]
  },
  {
   "cell_type": "code",
   "execution_count": 45,
   "metadata": {},
   "outputs": [
    {
     "data": {
      "text/plain": [
       "Lasso(alpha=0.05, max_iter=7000)"
      ]
     },
     "execution_count": 45,
     "metadata": {},
     "output_type": "execute_result"
    }
   ],
   "source": [
    "grid_poly2_lasso3.best_estimator_"
   ]
  },
  {
   "cell_type": "code",
   "execution_count": 46,
   "metadata": {},
   "outputs": [
    {
     "name": "stdout",
     "output_type": "stream",
     "text": [
      "Model eval for: Lasso(alpha=0.05, max_iter=7000)\n",
      "Training adj R squared: 0.307\n",
      "Training Root Mean Squared Error: 11727801.247\n",
      "Testing adj R squared: 0.167\n",
      "Testing Root Mean Squared Error: 18144495.021\n"
     ]
    }
   ],
   "source": [
    "cf.model_evaluation(grid_poly2_lasso3.best_estimator_,X_red_poly2_train_ss, X_red_poly2_test_ss, y_train,y_test)"
   ]
  },
  {
   "cell_type": "markdown",
   "metadata": {},
   "source": [
    "# PCA "
   ]
  },
  {
   "cell_type": "code",
   "execution_count": 47,
   "metadata": {},
   "outputs": [],
   "source": [
    "from sklearn.decomposition import PCA"
   ]
  },
  {
   "cell_type": "code",
   "execution_count": 48,
   "metadata": {},
   "outputs": [],
   "source": [
    "features = ['age_y', 'games', 'games_start', 'goals', 'assists','pens_successful',\n",
    "          'pens_attempts', 'yellow_cards', 'red_cards', 'xg', 'npxp', 'xa', 'full_90s_played',\n",
    "          'shots_total', 'shots_on_target', 'npxg','passes_completed','passes_attempted',\n",
    "          'passes_total_dist','passes_prog_dist','passes_completed_short', 'passes_attempted_short',\n",
    "          'passes_completed_medium','passes_attempted_medium','passes_completed_long', 'passes_attempted_long', \n",
    "          'xa_net', 'assisted_shots', 'passes_into_final_third', 'passes_into_penalty_area', 'crosses_into_penalty_area',\n",
    "          'progressive_passes','sca','sca_passes_live','sca_passes_dead','sca_dribbles','sca_shots','sca_fouled',\n",
    " 'sca_defense', 'gca', 'gca_passes_live', 'gca_passes_dead', 'gca_dribbles', 'gca_shots', 'gca_fouled',\n",
    " 'gca_defense', 'gca_og_for', 'tackles', 'tackles_won', 'tackles_def_3rd', 'tackles_mid_3rd', 'tackles_att_3rd',\n",
    " 'dribble_tackles', 'dribble_vs', 'dribbled_past', 'pressures', 'pressure_regains', 'pressures_def_3rd',\n",
    " 'pressures_mid_3rd', 'pressures_att_3rd', 'blocks', 'blocked_shots', 'blocked_shots_saves',\n",
    " 'blocked_passes', 'interceptions', 'tackles_interceptions', 'clearances', 'errors', 'touches',\n",
    " 'touches_def_pen_area', 'touches_def_3rd', 'touches_mid_3rd', 'touches_att_3rd', 'touches_att_pen_area',\n",
    " 'touches_live_ball', 'dribbles_completed', 'dribbles', 'players_dribbled_past', 'nutmegs',\n",
    " 'carries', 'carry_distance','carry_progressive_distance', 'pass_targets', 'passes_received', 'miscontrols',\n",
    " 'dispossessed', 'passes_left_foot', 'passes_right_foot', 'aerials_won', 'aerials_lost', 'mins_num',\n",
    "  'attacker','defender','midfielder',\n",
    " 'French', 'Spain', 'Italy', 'Germany', 'Brazil', 'England', 'Argentina', 'other_euro', 'other_SA', 'Concacaf',\n",
    " 'oceanian', 'CAF',\n",
    "  'selling_club_mega', 'buying_club_mega',\n",
    " ]"
   ]
  },
  {
   "cell_type": "code",
   "execution_count": 49,
   "metadata": {},
   "outputs": [],
   "source": [
    "y_pca = df['fee_final_logged']\n",
    "x_pca = df[features]"
   ]
  },
  {
   "cell_type": "code",
   "execution_count": 50,
   "metadata": {},
   "outputs": [],
   "source": [
    "X_pca_train, X_pca_test, y_pca_train, y_pca_test = train_test_split(x_pca, y_pca, random_state=9,test_size=0.2)"
   ]
  },
  {
   "cell_type": "code",
   "execution_count": 51,
   "metadata": {},
   "outputs": [],
   "source": [
    "ss_pca = StandardScaler()\n",
    "X_pca_train_ss = ss_pca.fit_transform(X_pca_train)\n",
    "X_pca_test_ss = ss_pca.transform(X_pca_test)"
   ]
  },
  {
   "cell_type": "code",
   "execution_count": 52,
   "metadata": {},
   "outputs": [],
   "source": [
    "pca = PCA()\n",
    "pca_train = pca.fit_transform(X_pca_train_ss)\n",
    "pca_test = pca.transform(X_pca_test_ss)"
   ]
  },
  {
   "cell_type": "code",
   "execution_count": 53,
   "metadata": {},
   "outputs": [
    {
     "data": {
      "text/plain": [
       "array([3.46458254e-01, 1.80802578e-01, 5.26521101e-02, 4.16907414e-02,\n",
       "       2.57098421e-02, 2.02437879e-02, 1.53712495e-02, 1.51213762e-02,\n",
       "       1.48795525e-02, 1.30925781e-02, 1.27285423e-02, 1.24145507e-02,\n",
       "       1.13460167e-02, 1.10352979e-02, 1.10150856e-02, 1.06840669e-02,\n",
       "       1.03446197e-02, 1.02709171e-02, 9.85998971e-03, 9.64477967e-03,\n",
       "       9.43724050e-03, 8.77939702e-03, 8.58687921e-03, 8.22991609e-03,\n",
       "       7.77539202e-03, 7.63403763e-03, 7.50294110e-03, 6.74503750e-03,\n",
       "       6.45566782e-03, 6.36812828e-03, 6.22431335e-03, 6.07523218e-03,\n",
       "       5.29731568e-03, 5.01519653e-03, 4.61123306e-03, 4.17834580e-03,\n",
       "       3.97029862e-03, 3.81191731e-03, 3.58685065e-03, 3.36311581e-03,\n",
       "       3.16848997e-03, 2.90281351e-03, 2.59112805e-03, 2.56987120e-03,\n",
       "       2.27820976e-03, 2.05094420e-03, 1.95713186e-03, 1.88970037e-03,\n",
       "       1.70040628e-03, 1.64482272e-03, 1.46127352e-03, 1.40245021e-03,\n",
       "       1.26853753e-03, 1.21830836e-03, 1.12357251e-03, 1.04805662e-03,\n",
       "       9.52323121e-04, 8.70521804e-04, 8.33724270e-04, 7.38950674e-04,\n",
       "       6.98524754e-04, 6.70800571e-04, 6.48279269e-04, 5.88812087e-04,\n",
       "       5.62020644e-04, 5.11399744e-04, 4.83581582e-04, 4.07291623e-04,\n",
       "       3.52782287e-04, 3.15726278e-04, 3.00114241e-04, 2.69398308e-04,\n",
       "       2.43519976e-04, 2.12366235e-04, 1.97171104e-04, 1.48500607e-04,\n",
       "       1.23439660e-04, 1.16922013e-04, 9.85594550e-05, 8.12655274e-05,\n",
       "       7.15148777e-05, 5.72264500e-05, 4.79049867e-05, 2.74132802e-05,\n",
       "       2.39006222e-05, 1.63138617e-05, 1.31974296e-05, 8.17798049e-06,\n",
       "       5.78532668e-06, 4.71941126e-06, 3.52731339e-06, 1.61798414e-06,\n",
       "       1.04761081e-06, 9.32303573e-07, 3.82476193e-07, 1.99974139e-07,\n",
       "       3.33993440e-08, 6.83268430e-32, 2.23104816e-33, 2.23104816e-33,\n",
       "       2.23104816e-33, 2.23104816e-33, 2.23104816e-33, 2.23104816e-33,\n",
       "       2.23104816e-33, 2.23104816e-33, 2.23104816e-33, 2.23104816e-33])"
      ]
     },
     "execution_count": 53,
     "metadata": {},
     "output_type": "execute_result"
    }
   ],
   "source": [
    "pca.explained_variance_ratio_"
   ]
  },
  {
   "cell_type": "markdown",
   "metadata": {},
   "source": [
    "### Scree Plot"
   ]
  },
  {
   "cell_type": "code",
   "execution_count": 55,
   "metadata": {},
   "outputs": [
    {
     "data": {
      "image/png": "[encoded data removed]",
      "text/plain": [
       "<Figure size 432x288 with 1 Axes>"
      ]
     },
     "metadata": {
      "needs_background": "light"
     },
     "output_type": "display_data"
    }
   ],
   "source": [
    "index = list(range(1,7))\n",
    "plt.bar(index, pca.explained_variance_ratio_[0:6])\n",
    "plt.title('Scree plot for PCA')\n",
    "plt.ylabel('Proportion of variance explained')\n",
    "plt.xlabel('Component')\n",
    "plt.savefig('Images/scree_plot.png')"
   ]
  },
  {
   "cell_type": "markdown",
   "metadata": {},
   "source": [
    "## Interpretation:\n",
    "* First PC explains 34.6%\n",
    "* Second PC explains 18.1%\n",
    "* Third PC explains 5.3%\n",
    "* Fourth PC explains 4.2% \n",
    "* Fifth PC explains 2.6%\n",
    "* Sixth PC explains 2.0%\n",
    "* Not a great proportion of the variance in the fee is explained by this extensive dataset.  Will try with the top 4 and top 6."
   ]
  },
  {
   "cell_type": "code",
   "execution_count": 56,
   "metadata": {},
   "outputs": [],
   "source": [
    "eig_values = pca.explained_variance_\n",
    "pc1 = pca.components_[0]\n",
    "pc2 = pca.components_[1]\n",
    "pc3 = pca.components_[2]\n",
    "pc4 = pca.components_[3]\n",
    "pc5 = pca.components_[4]\n",
    "pc6 = pca.components_[5]"
   ]
  },
  {
   "cell_type": "code",
   "execution_count": 57,
   "metadata": {},
   "outputs": [],
   "source": [
    "#Getting factor loadings:\n",
    "loading1 = pc1*np.sqrt(eig_values[0])\n",
    "loading1_df = pd.Series(loading1, index=features)\n",
    "\n",
    "loading2 = pc1*np.sqrt(eig_values[1])\n",
    "loading2_df = pd.Series(loading2, index=features)\n",
    "\n",
    "loading3 = pc1*np.sqrt(eig_values[2])\n",
    "loading3_df = pd.Series(loading3, index=features)\n",
    "\n",
    "loading4 = pc1*np.sqrt(eig_values[3])\n",
    "loading4_df = pd.Series(loading4, index=features)\n",
    "\n",
    "loading5 = pc1*np.sqrt(eig_values[4])\n",
    "loading5_df = pd.Series(loading5, index=features)\n",
    "\n",
    "loading6 = pc1*np.sqrt(eig_values[5])\n",
    "loading6_df = pd.Series(loading6, index=features)"
   ]
  },
  {
   "cell_type": "code",
   "execution_count": 58,
   "metadata": {},
   "outputs": [
    {
     "data": {
      "text/plain": [
       "carries              0.942927\n",
       "touches              0.937835\n",
       "pass_targets         0.934726\n",
       "touches_live_ball    0.930271\n",
       "passes_received      0.927423\n",
       "                       ...   \n",
       "Italy               -0.050793\n",
       "selling_club_mega   -0.051415\n",
       "age_y               -0.075438\n",
       "Concacaf            -0.102276\n",
       "attacker            -0.159391\n",
       "Length: 108, dtype: float64"
      ]
     },
     "execution_count": 58,
     "metadata": {},
     "output_type": "execute_result"
    }
   ],
   "source": [
    "loading1_df.sort_values(ascending=False)"
   ]
  },
  {
   "cell_type": "markdown",
   "metadata": {},
   "source": [
    "## PC1 loadings:\n",
    "* Variables loading above 0.9:\n",
    "carries                       \n",
    "touches                       \n",
    "pass_targets                  \n",
    "touches_live_ball             \n",
    "passes_received               \n",
    "mins_num                      \n",
    "full_90s_played               \n",
    "games_start                   \n",
    "passes_attempted_short\n",
    "\n",
    "* Carries/touches etc go hand in hand. Makes sense these would track together\n",
    "* mins, full 90's played and starts are measures of playing time and certainly would be correlated."
   ]
  },
  {
   "cell_type": "code",
   "execution_count": 59,
   "metadata": {},
   "outputs": [
    {
     "data": {
      "text/plain": [
       "carries              0.681169\n",
       "touches              0.677491\n",
       "pass_targets         0.675244\n",
       "touches_live_ball    0.672027\n",
       "passes_received      0.669969\n",
       "                       ...   \n",
       "Italy               -0.036692\n",
       "selling_club_mega   -0.037142\n",
       "age_y               -0.054496\n",
       "Concacaf            -0.073884\n",
       "attacker            -0.115143\n",
       "Length: 108, dtype: float64"
      ]
     },
     "execution_count": 59,
     "metadata": {},
     "output_type": "execute_result"
    }
   ],
   "source": [
    "loading2_df.sort_values(ascending=False)"
   ]
  },
  {
   "cell_type": "code",
   "execution_count": 60,
   "metadata": {},
   "outputs": [
    {
     "data": {
      "text/plain": [
       "carries              0.367587\n",
       "touches              0.365602\n",
       "pass_targets         0.364390\n",
       "touches_live_ball    0.362654\n",
       "passes_received      0.361543\n",
       "                       ...   \n",
       "Italy               -0.019801\n",
       "selling_club_mega   -0.020043\n",
       "age_y               -0.029408\n",
       "Concacaf            -0.039871\n",
       "attacker            -0.062136\n",
       "Length: 108, dtype: float64"
      ]
     },
     "execution_count": 60,
     "metadata": {},
     "output_type": "execute_result"
    }
   ],
   "source": [
    "loading3_df.sort_values(ascending=False)"
   ]
  },
  {
   "cell_type": "code",
   "execution_count": 61,
   "metadata": {},
   "outputs": [
    {
     "data": {
      "text/plain": [
       "carries              0.327094\n",
       "touches              0.325328\n",
       "pass_targets         0.324249\n",
       "touches_live_ball    0.322704\n",
       "passes_received      0.321716\n",
       "                       ...   \n",
       "Italy               -0.017620\n",
       "selling_club_mega   -0.017835\n",
       "age_y               -0.026169\n",
       "Concacaf            -0.035479\n",
       "attacker            -0.055291\n",
       "Length: 108, dtype: float64"
      ]
     },
     "execution_count": 61,
     "metadata": {},
     "output_type": "execute_result"
    }
   ],
   "source": [
    "loading4_df.sort_values(ascending=False)"
   ]
  },
  {
   "cell_type": "code",
   "execution_count": 62,
   "metadata": {},
   "outputs": [
    {
     "data": {
      "text/plain": [
       "carries              0.256864\n",
       "touches              0.255476\n",
       "pass_targets         0.254629\n",
       "touches_live_ball    0.253416\n",
       "passes_received      0.252640\n",
       "                       ...   \n",
       "Italy               -0.013836\n",
       "selling_club_mega   -0.014006\n",
       "age_y               -0.020550\n",
       "Concacaf            -0.027861\n",
       "attacker            -0.043420\n",
       "Length: 108, dtype: float64"
      ]
     },
     "execution_count": 62,
     "metadata": {},
     "output_type": "execute_result"
    }
   ],
   "source": [
    "loading5_df.sort_values(ascending=False)"
   ]
  },
  {
   "cell_type": "code",
   "execution_count": 63,
   "metadata": {},
   "outputs": [
    {
     "data": {
      "text/plain": [
       "carries              0.227929\n",
       "touches              0.226698\n",
       "pass_targets         0.225946\n",
       "touches_live_ball    0.224869\n",
       "passes_received      0.224181\n",
       "                       ...   \n",
       "Italy               -0.012278\n",
       "selling_club_mega   -0.012428\n",
       "age_y               -0.018235\n",
       "Concacaf            -0.024723\n",
       "attacker            -0.038529\n",
       "Length: 108, dtype: float64"
      ]
     },
     "execution_count": 63,
     "metadata": {},
     "output_type": "execute_result"
    }
   ],
   "source": [
    "loading6_df.sort_values(ascending=False)"
   ]
  },
  {
   "cell_type": "markdown",
   "metadata": {},
   "source": [
    "## Interpretation:\n",
    "* The order of the features is the same for all 6 PCs but the loadings get progressively lower.  It's strange to me that the features explaining the most variance along orthagonal axes is the same."
   ]
  },
  {
   "cell_type": "markdown",
   "metadata": {},
   "source": [
    "## Modeling the PCs"
   ]
  },
  {
   "cell_type": "code",
   "execution_count": 64,
   "metadata": {},
   "outputs": [],
   "source": [
    "pca_train_6 = pca_train[:,0:6]\n",
    "pca_test_6 = pca_test[:,0:6]"
   ]
  },
  {
   "cell_type": "code",
   "execution_count": 65,
   "metadata": {},
   "outputs": [
    {
     "name": "stdout",
     "output_type": "stream",
     "text": [
      "Model eval for: LinearRegression()\n",
      "Training adj R squared: 0.25\n",
      "Training Root Mean Squared Error: 14494782.407\n",
      "Testing adj R squared: 0.227\n",
      "Testing Root Mean Squared Error: 17085176.007\n"
     ]
    }
   ],
   "source": [
    "lm_pca = LinearRegression()\n",
    "lm_pca = lm_pca.fit(pca_train_6, y_train)\n",
    "cf.model_evaluation(lm_pca, pca_train_6,pca_test_6, y_train, y_test)"
   ]
  },
  {
   "cell_type": "code",
   "execution_count": 127,
   "metadata": {},
   "outputs": [
    {
     "data": {
      "text/plain": [
       "GridSearchCV(estimator=Ridge(),\n",
       "             param_grid={'alpha': [0.001, 0.01, 0.5, 1, 5, 10]})"
      ]
     },
     "execution_count": 127,
     "metadata": {},
     "output_type": "execute_result"
    }
   ],
   "source": [
    "ridge_params_pca = {'alpha':[0.001,0.01,.5,1,5,10]}\n",
    "ridge_pca = Ridge()\n",
    "grid_ridge_pca = GridSearchCV(estimator=ridge_pca, param_grid=ridge_params_pca)\n",
    "grid_ridge_pca.fit(pca_train_6, y_train)"
   ]
  },
  {
   "cell_type": "code",
   "execution_count": 128,
   "metadata": {},
   "outputs": [
    {
     "data": {
      "text/plain": [
       "Ridge(alpha=10)"
      ]
     },
     "execution_count": 128,
     "metadata": {},
     "output_type": "execute_result"
    }
   ],
   "source": [
    "grid_ridge_pca.best_estimator_"
   ]
  },
  {
   "cell_type": "code",
   "execution_count": 129,
   "metadata": {},
   "outputs": [
    {
     "data": {
      "text/plain": [
       "GridSearchCV(estimator=Ridge(),\n",
       "             param_grid={'alpha': [10, 20, 30, 40, 50, 60, 70, 80, 90, 100]})"
      ]
     },
     "execution_count": 129,
     "metadata": {},
     "output_type": "execute_result"
    }
   ],
   "source": [
    "ridge_params_pca2 = {'alpha':[10,20,30,40,50,60,70,80,90,100]}\n",
    "ridge_pca = Ridge()\n",
    "grid_ridge_pca2 = GridSearchCV(estimator=ridge_pca, param_grid=ridge_params_pca2)\n",
    "grid_ridge_pca2.fit(pca_train_6, y_train)"
   ]
  },
  {
   "cell_type": "code",
   "execution_count": 130,
   "metadata": {},
   "outputs": [
    {
     "data": {
      "text/plain": [
       "Ridge(alpha=100)"
      ]
     },
     "execution_count": 130,
     "metadata": {},
     "output_type": "execute_result"
    }
   ],
   "source": [
    "grid_ridge_pca2.best_estimator_"
   ]
  },
  {
   "cell_type": "code",
   "execution_count": 131,
   "metadata": {},
   "outputs": [
    {
     "data": {
      "text/plain": [
       "GridSearchCV(estimator=Ridge(),\n",
       "             param_grid={'alpha': [100, 150, 200, 250, 300, 350, 500]})"
      ]
     },
     "execution_count": 131,
     "metadata": {},
     "output_type": "execute_result"
    }
   ],
   "source": [
    "ridge_params_pca3 = {'alpha':[100,150,200,250,300,350,500]}\n",
    "ridge_pca = Ridge()\n",
    "grid_ridge_pca3 = GridSearchCV(estimator=ridge_pca, param_grid=ridge_params_pca3)\n",
    "grid_ridge_pca3.fit(pca_train_6, y_train)"
   ]
  },
  {
   "cell_type": "code",
   "execution_count": 132,
   "metadata": {},
   "outputs": [
    {
     "data": {
      "text/plain": [
       "Ridge(alpha=100)"
      ]
     },
     "execution_count": 132,
     "metadata": {},
     "output_type": "execute_result"
    }
   ],
   "source": [
    "grid_ridge_pca3.best_estimator_"
   ]
  },
  {
   "cell_type": "code",
   "execution_count": 133,
   "metadata": {},
   "outputs": [
    {
     "data": {
      "text/plain": [
       "GridSearchCV(estimator=Ridge(),\n",
       "             param_grid={'alpha': [95, 97, 100, 105, 110, 115, 120, 125]})"
      ]
     },
     "execution_count": 133,
     "metadata": {},
     "output_type": "execute_result"
    }
   ],
   "source": [
    "ridge_params_pca4 = {'alpha':[95,97,100,105,110,115,120,125]}\n",
    "ridge_pca = Ridge()\n",
    "grid_ridge_pca4 = GridSearchCV(estimator=ridge_pca, param_grid=ridge_params_pca4)\n",
    "grid_ridge_pca4.fit(pca_train_6, y_train)"
   ]
  },
  {
   "cell_type": "code",
   "execution_count": 135,
   "metadata": {},
   "outputs": [
    {
     "data": {
      "text/plain": [
       "Ridge(alpha=100)"
      ]
     },
     "execution_count": 135,
     "metadata": {},
     "output_type": "execute_result"
    }
   ],
   "source": [
    "grid_ridge_pca4.best_estimator_"
   ]
  },
  {
   "cell_type": "code",
   "execution_count": 136,
   "metadata": {},
   "outputs": [
    {
     "name": "stdout",
     "output_type": "stream",
     "text": [
      "Model eval for: Ridge(alpha=100)\n",
      "Training adj R squared: 0.249\n",
      "Training Root Mean Squared Error: 13620290.547\n",
      "Testing adj R squared: 0.228\n",
      "Testing Root Mean Squared Error: 17167525.836\n"
     ]
    }
   ],
   "source": [
    "cf.model_evaluation(grid_ridge_pca4.best_estimator_,pca_train_6,pca_test_6, y_train, y_test)"
   ]
  },
  {
   "cell_type": "code",
   "execution_count": 137,
   "metadata": {},
   "outputs": [
    {
     "data": {
      "text/plain": [
       "GridSearchCV(estimator=Lasso(),\n",
       "             param_grid={'alpha': [0.001, 0.01, 1, 10, 50, 100]})"
      ]
     },
     "execution_count": 137,
     "metadata": {},
     "output_type": "execute_result"
    }
   ],
   "source": [
    "lasso_params_pca = {'alpha':[0.001,0.01,1,10,50,100]}\n",
    "lasso_pca = Lasso()\n",
    "grid_lasso_pca = GridSearchCV(estimator=lasso_pca, param_grid=lasso_params_pca)\n",
    "grid_lasso_pca.fit(pca_train_6, y_train)"
   ]
  },
  {
   "cell_type": "code",
   "execution_count": 138,
   "metadata": {},
   "outputs": [
    {
     "data": {
      "text/plain": [
       "Lasso(alpha=0.01)"
      ]
     },
     "execution_count": 138,
     "metadata": {},
     "output_type": "execute_result"
    }
   ],
   "source": [
    "grid_lasso_pca.best_estimator_"
   ]
  },
  {
   "cell_type": "code",
   "execution_count": 139,
   "metadata": {},
   "outputs": [
    {
     "data": {
      "text/plain": [
       "GridSearchCV(estimator=Lasso(),\n",
       "             param_grid={'alpha': [0.005, 0.007, 0.01, 0.02, 0.03, 0.04, 0.05]})"
      ]
     },
     "execution_count": 139,
     "metadata": {},
     "output_type": "execute_result"
    }
   ],
   "source": [
    "lasso_params_pca2 = {'alpha':[0.005,0.007,0.01,0.02,0.03,0.04,0.05]}\n",
    "lasso_pca = Lasso()\n",
    "grid_lasso_pca2 = GridSearchCV(estimator=lasso_pca, param_grid=lasso_params_pca2)\n",
    "grid_lasso_pca2.fit(pca_train_6, y_train)"
   ]
  },
  {
   "cell_type": "code",
   "execution_count": 140,
   "metadata": {},
   "outputs": [
    {
     "data": {
      "text/plain": [
       "Lasso(alpha=0.02)"
      ]
     },
     "execution_count": 140,
     "metadata": {},
     "output_type": "execute_result"
    }
   ],
   "source": [
    "grid_lasso_pca2.best_estimator_"
   ]
  },
  {
   "cell_type": "code",
   "execution_count": 141,
   "metadata": {},
   "outputs": [
    {
     "name": "stdout",
     "output_type": "stream",
     "text": [
      "Model eval for: Lasso(alpha=0.02)\n",
      "Training adj R squared: 0.249\n",
      "Training Root Mean Squared Error: 13629796.957\n",
      "Testing adj R squared: 0.226\n",
      "Testing Root Mean Squared Error: 17198891.809\n"
     ]
    }
   ],
   "source": [
    "cf.model_evaluation(grid_lasso_pca2.best_estimator_,pca_train_6,pca_test_6, y_train, y_test)"
   ]
  },
  {
   "cell_type": "code",
   "execution_count": 142,
   "metadata": {},
   "outputs": [],
   "source": [
    "poly2_pca = PolynomialFeatures(degree=2)"
   ]
  },
  {
   "cell_type": "code",
   "execution_count": 143,
   "metadata": {},
   "outputs": [],
   "source": [
    "pca_train_6_poly = poly2_pca.fit_transform(pca_train_6)\n",
    "pca_test_6_poly = poly2_pca.fit_transform(pca_test_6)"
   ]
  },
  {
   "cell_type": "code",
   "execution_count": 149,
   "metadata": {},
   "outputs": [
    {
     "name": "stdout",
     "output_type": "stream",
     "text": [
      "Model eval for: LinearRegression()\n",
      "Training adj R squared: -0.207\n",
      "Training Root Mean Squared Error: 519962593.567\n",
      "Testing adj R squared: -0.325\n",
      "Testing Root Mean Squared Error: 49010845.54\n"
     ]
    }
   ],
   "source": [
    "lm_pca_poly = LinearRegression()\n",
    "lm_pca_poly = lm_pca_poly.fit(pca_train_6_poly, y_train)\n",
    "cf.model_evaluation(lm_pca_poly, pca_train_6_poly, pca_test_6_poly, y_train, y_test)"
   ]
  },
  {
   "cell_type": "code",
   "execution_count": 150,
   "metadata": {},
   "outputs": [
    {
     "data": {
      "text/plain": [
       "GridSearchCV(estimator=Ridge(),\n",
       "             param_grid={'alpha': [10, 50, 100, 150, 200, 250]})"
      ]
     },
     "execution_count": 150,
     "metadata": {},
     "output_type": "execute_result"
    }
   ],
   "source": [
    "ridge_params_pca_poly = {'alpha':[10,50,100,150,200,250]}\n",
    "ridge_pca_poly = Ridge()\n",
    "grid_ridge_pca_poly = GridSearchCV(estimator=ridge_pca_poly, param_grid=ridge_params_pca_poly)\n",
    "grid_ridge_pca_poly.fit(pca_train_6_poly, y_train)"
   ]
  },
  {
   "cell_type": "code",
   "execution_count": 151,
   "metadata": {},
   "outputs": [
    {
     "data": {
      "text/plain": [
       "Ridge(alpha=50)"
      ]
     },
     "execution_count": 151,
     "metadata": {},
     "output_type": "execute_result"
    }
   ],
   "source": [
    "grid_ridge_pca_poly.best_estimator_"
   ]
  },
  {
   "cell_type": "code",
   "execution_count": 152,
   "metadata": {},
   "outputs": [
    {
     "data": {
      "text/plain": [
       "GridSearchCV(estimator=Ridge(),\n",
       "             param_grid={'alpha': [25, 35, 45, 50, 55, 65, 75]})"
      ]
     },
     "execution_count": 152,
     "metadata": {},
     "output_type": "execute_result"
    }
   ],
   "source": [
    "ridge_params_pca_poly2 = {'alpha':[25,35,45,50,55,65,75]}\n",
    "ridge_pca_poly = Ridge()\n",
    "grid_ridge_pca_poly2 = GridSearchCV(estimator=ridge_pca_poly, param_grid=ridge_params_pca_poly2)\n",
    "grid_ridge_pca_poly2.fit(pca_train_6_poly, y_train)"
   ]
  },
  {
   "cell_type": "code",
   "execution_count": 153,
   "metadata": {},
   "outputs": [
    {
     "data": {
      "text/plain": [
       "Ridge(alpha=50)"
      ]
     },
     "execution_count": 153,
     "metadata": {},
     "output_type": "execute_result"
    }
   ],
   "source": [
    "grid_ridge_pca_poly2.best_estimator_"
   ]
  },
  {
   "cell_type": "code",
   "execution_count": 154,
   "metadata": {},
   "outputs": [
    {
     "name": "stdout",
     "output_type": "stream",
     "text": [
      "Model eval for: Ridge(alpha=50)\n",
      "Training adj R squared: 0.309\n",
      "Training Root Mean Squared Error: 12161790.534\n",
      "Testing adj R squared: 0.203\n",
      "Testing Root Mean Squared Error: 16720144.303\n"
     ]
    }
   ],
   "source": [
    "cf.model_evaluation(grid_ridge_pca_poly2.best_estimator_, pca_train_6_poly, pca_test_6_poly, y_train,y_test)"
   ]
  },
  {
   "cell_type": "code",
   "execution_count": 155,
   "metadata": {},
   "outputs": [
    {
     "data": {
      "text/plain": [
       "GridSearchCV(estimator=Lasso(),\n",
       "             param_grid={'alpha': [10, 50, 100, 150, 200, 250]})"
      ]
     },
     "execution_count": 155,
     "metadata": {},
     "output_type": "execute_result"
    }
   ],
   "source": [
    "lasso_params_pca_poly = {'alpha':[10,50,100,150,200,250]}\n",
    "lasso_pca_poly = Lasso()\n",
    "grid_lasso_pca_poly = GridSearchCV(estimator=lasso_pca_poly, param_grid=lasso_params_pca_poly)\n",
    "grid_lasso_pca_poly.fit(pca_train_6_poly, y_train)"
   ]
  },
  {
   "cell_type": "code",
   "execution_count": 156,
   "metadata": {},
   "outputs": [
    {
     "data": {
      "text/plain": [
       "Lasso(alpha=10)"
      ]
     },
     "execution_count": 156,
     "metadata": {},
     "output_type": "execute_result"
    }
   ],
   "source": [
    "grid_lasso_pca_poly.best_estimator_"
   ]
  },
  {
   "cell_type": "code",
   "execution_count": 157,
   "metadata": {},
   "outputs": [
    {
     "data": {
      "text/plain": [
       "GridSearchCV(estimator=Lasso(),\n",
       "             param_grid={'alpha': [0.01, 0.1, 1, 3, 5, 7, 10, 11, 14, 17, 20]})"
      ]
     },
     "execution_count": 157,
     "metadata": {},
     "output_type": "execute_result"
    }
   ],
   "source": [
    "lasso_params_pca_poly2 = {'alpha':[.01,.1,1,3,5,7,10,11,14,17,20]}\n",
    "lasso_pca_poly = Lasso()\n",
    "grid_lasso_pca_poly2 = GridSearchCV(estimator=lasso_pca_poly, param_grid=lasso_params_pca_poly2)\n",
    "grid_lasso_pca_poly2.fit(pca_train_6_poly, y_train)"
   ]
  },
  {
   "cell_type": "code",
   "execution_count": 158,
   "metadata": {},
   "outputs": [
    {
     "data": {
      "text/plain": [
       "Lasso(alpha=0.01)"
      ]
     },
     "execution_count": 158,
     "metadata": {},
     "output_type": "execute_result"
    }
   ],
   "source": [
    "grid_lasso_pca_poly2.best_estimator_"
   ]
  },
  {
   "cell_type": "code",
   "execution_count": 159,
   "metadata": {},
   "outputs": [
    {
     "data": {
      "text/plain": [
       "GridSearchCV(estimator=Lasso(),\n",
       "             param_grid={'alpha': [0.0001, 0.001, 0.005, 0.01, 0.03, 0.05,\n",
       "                                   0.07]})"
      ]
     },
     "execution_count": 159,
     "metadata": {},
     "output_type": "execute_result"
    }
   ],
   "source": [
    "lasso_params_pca_poly3 = {'alpha':[.0001,.001,.005,.01,.03,.05,.07]}\n",
    "lasso_pca_poly = Lasso()\n",
    "grid_lasso_pca_poly3 = GridSearchCV(estimator=lasso_pca_poly, param_grid=lasso_params_pca_poly3)\n",
    "grid_lasso_pca_poly3.fit(pca_train_6_poly, y_train)"
   ]
  },
  {
   "cell_type": "code",
   "execution_count": 160,
   "metadata": {},
   "outputs": [
    {
     "data": {
      "text/plain": [
       "Lasso(alpha=0.05)"
      ]
     },
     "execution_count": 160,
     "metadata": {},
     "output_type": "execute_result"
    }
   ],
   "source": [
    "grid_lasso_pca_poly3.best_estimator_"
   ]
  },
  {
   "cell_type": "code",
   "execution_count": 161,
   "metadata": {},
   "outputs": [
    {
     "name": "stdout",
     "output_type": "stream",
     "text": [
      "Model eval for: Lasso(alpha=0.05)\n",
      "Training adj R squared: 0.3\n",
      "Training Root Mean Squared Error: 11895724.317\n",
      "Testing adj R squared: 0.212\n",
      "Testing Root Mean Squared Error: 17303987.374\n"
     ]
    }
   ],
   "source": [
    "cf.model_evaluation(grid_lasso_pca_poly3.best_estimator_, pca_train_6_poly, pca_test_6_poly, y_train, y_test)"
   ]
  },
  {
   "cell_type": "code",
   "execution_count": null,
   "metadata": {},
   "outputs": [],
   "source": []
  },
  {
   "cell_type": "code",
   "execution_count": null,
   "metadata": {},
   "outputs": [],
   "source": []
  },
  {
   "cell_type": "code",
   "execution_count": null,
   "metadata": {},
   "outputs": [],
   "source": []
  },
  {
   "cell_type": "code",
   "execution_count": null,
   "metadata": {},
   "outputs": [],
   "source": []
  },
  {
   "cell_type": "code",
   "execution_count": null,
   "metadata": {},
   "outputs": [],
   "source": []
  },
  {
   "cell_type": "code",
   "execution_count": null,
   "metadata": {},
   "outputs": [],
   "source": []
  },
  {
   "cell_type": "code",
   "execution_count": null,
   "metadata": {},
   "outputs": [],
   "source": []
  },
  {
   "cell_type": "code",
   "execution_count": null,
   "metadata": {},
   "outputs": [],
   "source": []
  },
  {
   "cell_type": "code",
   "execution_count": null,
   "metadata": {},
   "outputs": [],
   "source": []
  }
 ],
 "metadata": {
  "kernelspec": {
   "display_name": "Python 3",
   "language": "python",
   "name": "python3"
  },
  "language_info": {
   "codemirror_mode": {
    "name": "ipython",
    "version": 3
   },
   "file_extension": ".py",
   "mimetype": "text/x-python",
   "name": "python",
   "nbconvert_exporter": "python",
   "pygments_lexer": "ipython3",
   "version": "3.6.9"
  }
 },
 "nbformat": 4,
 "nbformat_minor": 4
}
